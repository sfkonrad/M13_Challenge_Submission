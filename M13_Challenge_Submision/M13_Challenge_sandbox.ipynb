{
 "cells": [
  {
   "cell_type": "markdown",
   "metadata": {},
   "source": [
    "\n",
    "#### M13_Challenge_KonradK_venture_funding_with_deep_learning.ipynb\n",
    "# Konrad Kozicki\n",
    "### UCB-VIRT-FIN-PT-12-2020-U-B-TTH\n",
    "---\n",
    "\n",
    "# Venture Funding with Deep Learning\n"
   ]
  },
  {
   "cell_type": "code",
   "execution_count": 1,
   "metadata": {},
   "outputs": [],
   "source": [
    "# Imports\n",
    "import pandas as pd\n",
    "from pathlib import Path\n",
    "import tensorflow as tf\n",
    "from tensorflow.keras.layers import Dense\n",
    "from tensorflow.keras.models import Sequential\n",
    "from sklearn.model_selection import train_test_split\n",
    "from sklearn.preprocessing import StandardScaler,OneHotEncoder\n",
    "\n",
    "import matplotlib.pyplot as plt\n",
    "\n",
    "%matplotlib inline"
   ]
  },
  {
   "cell_type": "markdown",
   "metadata": {},
   "source": [
    "---\n",
    "\n",
    "## Prepare the data to be used on a neural network model"
   ]
  },
  {
   "cell_type": "markdown",
   "metadata": {},
   "source": [
    "### Step 1: Read the `applicants_data.csv` file into a Pandas DataFrame. Review the DataFrame, looking for categorical variables that will need to be encoded, as well as columns that could eventually define your features and target variables.  \n"
   ]
  },
  {
   "cell_type": "code",
   "execution_count": 2,
   "metadata": {},
   "outputs": [
    {
     "data": {
      "text/html": [
       "<div>\n",
       "<style scoped>\n",
       "    .dataframe tbody tr th:only-of-type {\n",
       "        vertical-align: middle;\n",
       "    }\n",
       "\n",
       "    .dataframe tbody tr th {\n",
       "        vertical-align: top;\n",
       "    }\n",
       "\n",
       "    .dataframe thead th {\n",
       "        text-align: right;\n",
       "    }\n",
       "</style>\n",
       "<table border=\"1\" class=\"dataframe\">\n",
       "  <thead>\n",
       "    <tr style=\"text-align: right;\">\n",
       "      <th></th>\n",
       "      <th>EIN</th>\n",
       "      <th>NAME</th>\n",
       "      <th>APPLICATION_TYPE</th>\n",
       "      <th>AFFILIATION</th>\n",
       "      <th>CLASSIFICATION</th>\n",
       "      <th>USE_CASE</th>\n",
       "      <th>ORGANIZATION</th>\n",
       "      <th>STATUS</th>\n",
       "      <th>INCOME_AMT</th>\n",
       "      <th>SPECIAL_CONSIDERATIONS</th>\n",
       "      <th>ASK_AMT</th>\n",
       "      <th>IS_SUCCESSFUL</th>\n",
       "    </tr>\n",
       "  </thead>\n",
       "  <tbody>\n",
       "    <tr>\n",
       "      <th>0</th>\n",
       "      <td>10520599</td>\n",
       "      <td>BLUE KNIGHTS MOTORCYCLE CLUB</td>\n",
       "      <td>T10</td>\n",
       "      <td>Independent</td>\n",
       "      <td>C1000</td>\n",
       "      <td>ProductDev</td>\n",
       "      <td>Association</td>\n",
       "      <td>1</td>\n",
       "      <td>0</td>\n",
       "      <td>N</td>\n",
       "      <td>5000</td>\n",
       "      <td>1</td>\n",
       "    </tr>\n",
       "    <tr>\n",
       "      <th>1</th>\n",
       "      <td>10531628</td>\n",
       "      <td>AMERICAN CHESAPEAKE CLUB CHARITABLE TR</td>\n",
       "      <td>T3</td>\n",
       "      <td>Independent</td>\n",
       "      <td>C2000</td>\n",
       "      <td>Preservation</td>\n",
       "      <td>Co-operative</td>\n",
       "      <td>1</td>\n",
       "      <td>1-9999</td>\n",
       "      <td>N</td>\n",
       "      <td>108590</td>\n",
       "      <td>1</td>\n",
       "    </tr>\n",
       "    <tr>\n",
       "      <th>2</th>\n",
       "      <td>10547893</td>\n",
       "      <td>ST CLOUD PROFESSIONAL FIREFIGHTERS</td>\n",
       "      <td>T5</td>\n",
       "      <td>CompanySponsored</td>\n",
       "      <td>C3000</td>\n",
       "      <td>ProductDev</td>\n",
       "      <td>Association</td>\n",
       "      <td>1</td>\n",
       "      <td>0</td>\n",
       "      <td>N</td>\n",
       "      <td>5000</td>\n",
       "      <td>0</td>\n",
       "    </tr>\n",
       "    <tr>\n",
       "      <th>3</th>\n",
       "      <td>10553066</td>\n",
       "      <td>SOUTHSIDE ATHLETIC ASSOCIATION</td>\n",
       "      <td>T3</td>\n",
       "      <td>CompanySponsored</td>\n",
       "      <td>C2000</td>\n",
       "      <td>Preservation</td>\n",
       "      <td>Trust</td>\n",
       "      <td>1</td>\n",
       "      <td>10000-24999</td>\n",
       "      <td>N</td>\n",
       "      <td>6692</td>\n",
       "      <td>1</td>\n",
       "    </tr>\n",
       "    <tr>\n",
       "      <th>4</th>\n",
       "      <td>10556103</td>\n",
       "      <td>GENETIC RESEARCH INSTITUTE OF THE DESERT</td>\n",
       "      <td>T3</td>\n",
       "      <td>Independent</td>\n",
       "      <td>C1000</td>\n",
       "      <td>Heathcare</td>\n",
       "      <td>Trust</td>\n",
       "      <td>1</td>\n",
       "      <td>100000-499999</td>\n",
       "      <td>N</td>\n",
       "      <td>142590</td>\n",
       "      <td>1</td>\n",
       "    </tr>\n",
       "  </tbody>\n",
       "</table>\n",
       "</div>"
      ],
      "text/plain": [
       "        EIN                                      NAME APPLICATION_TYPE  \\\n",
       "0  10520599              BLUE KNIGHTS MOTORCYCLE CLUB              T10   \n",
       "1  10531628    AMERICAN CHESAPEAKE CLUB CHARITABLE TR               T3   \n",
       "2  10547893        ST CLOUD PROFESSIONAL FIREFIGHTERS               T5   \n",
       "3  10553066            SOUTHSIDE ATHLETIC ASSOCIATION               T3   \n",
       "4  10556103  GENETIC RESEARCH INSTITUTE OF THE DESERT               T3   \n",
       "\n",
       "        AFFILIATION CLASSIFICATION      USE_CASE  ORGANIZATION  STATUS  \\\n",
       "0       Independent          C1000    ProductDev   Association       1   \n",
       "1       Independent          C2000  Preservation  Co-operative       1   \n",
       "2  CompanySponsored          C3000    ProductDev   Association       1   \n",
       "3  CompanySponsored          C2000  Preservation         Trust       1   \n",
       "4       Independent          C1000     Heathcare         Trust       1   \n",
       "\n",
       "      INCOME_AMT SPECIAL_CONSIDERATIONS  ASK_AMT  IS_SUCCESSFUL  \n",
       "0              0                      N     5000              1  \n",
       "1         1-9999                      N   108590              1  \n",
       "2              0                      N     5000              0  \n",
       "3    10000-24999                      N     6692              1  \n",
       "4  100000-499999                      N   142590              1  "
      ]
     },
     "execution_count": 2,
     "metadata": {},
     "output_type": "execute_result"
    }
   ],
   "source": [
    "# Read the applicants_data.csv file from the Resources folder into a Pandas DataFrame\n",
    "applicant_data_df = pd.read_csv(\n",
    "    Path(\"./Resources/applicants_data.csv\")\n",
    ")\n",
    "\n",
    "# Review the DataFrame\n",
    "applicant_data_df.head()"
   ]
  },
  {
   "cell_type": "code",
   "execution_count": 3,
   "metadata": {},
   "outputs": [
    {
     "data": {
      "text/plain": [
       "EIN                        int64\n",
       "NAME                      object\n",
       "APPLICATION_TYPE          object\n",
       "AFFILIATION               object\n",
       "CLASSIFICATION            object\n",
       "USE_CASE                  object\n",
       "ORGANIZATION              object\n",
       "STATUS                     int64\n",
       "INCOME_AMT                object\n",
       "SPECIAL_CONSIDERATIONS    object\n",
       "ASK_AMT                    int64\n",
       "IS_SUCCESSFUL              int64\n",
       "dtype: object"
      ]
     },
     "execution_count": 3,
     "metadata": {},
     "output_type": "execute_result"
    }
   ],
   "source": [
    "# Review the data types associated with the columns\n",
    "applicant_data_df.dtypes"
   ]
  },
  {
   "attachments": {
    "43165e11-dfea-4007-99fa-9bfdbd980c64.png": {
     "image/png": "[encoded data removed]"
    }
   },
   "cell_type": "markdown",
   "metadata": {},
   "source": [
    ">>>> ![image.png](attachment:43165e11-dfea-4007-99fa-9bfdbd980c64.png)"
   ]
  },
  {
   "cell_type": "markdown",
   "metadata": {},
   "source": [
    "### Step 2: Drop the “EIN” (Employer Identification Number) and “NAME” columns from the DataFrame, because they are not relevant to the binary classification model."
   ]
  },
  {
   "cell_type": "code",
   "execution_count": 4,
   "metadata": {},
   "outputs": [
    {
     "data": {
      "text/html": [
       "<div>\n",
       "<style scoped>\n",
       "    .dataframe tbody tr th:only-of-type {\n",
       "        vertical-align: middle;\n",
       "    }\n",
       "\n",
       "    .dataframe tbody tr th {\n",
       "        vertical-align: top;\n",
       "    }\n",
       "\n",
       "    .dataframe thead th {\n",
       "        text-align: right;\n",
       "    }\n",
       "</style>\n",
       "<table border=\"1\" class=\"dataframe\">\n",
       "  <thead>\n",
       "    <tr style=\"text-align: right;\">\n",
       "      <th></th>\n",
       "      <th>APPLICATION_TYPE</th>\n",
       "      <th>AFFILIATION</th>\n",
       "      <th>CLASSIFICATION</th>\n",
       "      <th>USE_CASE</th>\n",
       "      <th>ORGANIZATION</th>\n",
       "      <th>STATUS</th>\n",
       "      <th>INCOME_AMT</th>\n",
       "      <th>SPECIAL_CONSIDERATIONS</th>\n",
       "      <th>ASK_AMT</th>\n",
       "      <th>IS_SUCCESSFUL</th>\n",
       "    </tr>\n",
       "  </thead>\n",
       "  <tbody>\n",
       "    <tr>\n",
       "      <th>0</th>\n",
       "      <td>T10</td>\n",
       "      <td>Independent</td>\n",
       "      <td>C1000</td>\n",
       "      <td>ProductDev</td>\n",
       "      <td>Association</td>\n",
       "      <td>1</td>\n",
       "      <td>0</td>\n",
       "      <td>N</td>\n",
       "      <td>5000</td>\n",
       "      <td>1</td>\n",
       "    </tr>\n",
       "    <tr>\n",
       "      <th>1</th>\n",
       "      <td>T3</td>\n",
       "      <td>Independent</td>\n",
       "      <td>C2000</td>\n",
       "      <td>Preservation</td>\n",
       "      <td>Co-operative</td>\n",
       "      <td>1</td>\n",
       "      <td>1-9999</td>\n",
       "      <td>N</td>\n",
       "      <td>108590</td>\n",
       "      <td>1</td>\n",
       "    </tr>\n",
       "    <tr>\n",
       "      <th>2</th>\n",
       "      <td>T5</td>\n",
       "      <td>CompanySponsored</td>\n",
       "      <td>C3000</td>\n",
       "      <td>ProductDev</td>\n",
       "      <td>Association</td>\n",
       "      <td>1</td>\n",
       "      <td>0</td>\n",
       "      <td>N</td>\n",
       "      <td>5000</td>\n",
       "      <td>0</td>\n",
       "    </tr>\n",
       "    <tr>\n",
       "      <th>3</th>\n",
       "      <td>T3</td>\n",
       "      <td>CompanySponsored</td>\n",
       "      <td>C2000</td>\n",
       "      <td>Preservation</td>\n",
       "      <td>Trust</td>\n",
       "      <td>1</td>\n",
       "      <td>10000-24999</td>\n",
       "      <td>N</td>\n",
       "      <td>6692</td>\n",
       "      <td>1</td>\n",
       "    </tr>\n",
       "    <tr>\n",
       "      <th>4</th>\n",
       "      <td>T3</td>\n",
       "      <td>Independent</td>\n",
       "      <td>C1000</td>\n",
       "      <td>Heathcare</td>\n",
       "      <td>Trust</td>\n",
       "      <td>1</td>\n",
       "      <td>100000-499999</td>\n",
       "      <td>N</td>\n",
       "      <td>142590</td>\n",
       "      <td>1</td>\n",
       "    </tr>\n",
       "  </tbody>\n",
       "</table>\n",
       "</div>"
      ],
      "text/plain": [
       "  APPLICATION_TYPE       AFFILIATION CLASSIFICATION      USE_CASE  \\\n",
       "0              T10       Independent          C1000    ProductDev   \n",
       "1               T3       Independent          C2000  Preservation   \n",
       "2               T5  CompanySponsored          C3000    ProductDev   \n",
       "3               T3  CompanySponsored          C2000  Preservation   \n",
       "4               T3       Independent          C1000     Heathcare   \n",
       "\n",
       "   ORGANIZATION  STATUS     INCOME_AMT SPECIAL_CONSIDERATIONS  ASK_AMT  \\\n",
       "0   Association       1              0                      N     5000   \n",
       "1  Co-operative       1         1-9999                      N   108590   \n",
       "2   Association       1              0                      N     5000   \n",
       "3         Trust       1    10000-24999                      N     6692   \n",
       "4         Trust       1  100000-499999                      N   142590   \n",
       "\n",
       "   IS_SUCCESSFUL  \n",
       "0              1  \n",
       "1              1  \n",
       "2              0  \n",
       "3              1  \n",
       "4              1  "
      ]
     },
     "execution_count": 4,
     "metadata": {},
     "output_type": "execute_result"
    }
   ],
   "source": [
    "# Drop the 'EIN' and 'NAME' columns from the DataFrame\n",
    "applicant_data_df = applicant_data_df.drop(columns = [\"EIN\", \"NAME\"])\n",
    "\n",
    "# Review the DataFrame\n",
    "applicant_data_df[:5]"
   ]
  },
  {
   "cell_type": "markdown",
   "metadata": {},
   "source": [
    "### Step 3: Encode the dataset’s categorical variables using `OneHotEncoder`, and then place the encoded variables into a new DataFrame."
   ]
  },
  {
   "cell_type": "code",
   "execution_count": 5,
   "metadata": {},
   "outputs": [
    {
     "data": {
      "text/plain": [
       "['APPLICATION_TYPE',\n",
       " 'AFFILIATION',\n",
       " 'CLASSIFICATION',\n",
       " 'USE_CASE',\n",
       " 'ORGANIZATION',\n",
       " 'INCOME_AMT',\n",
       " 'SPECIAL_CONSIDERATIONS']"
      ]
     },
     "execution_count": 5,
     "metadata": {},
     "output_type": "execute_result"
    }
   ],
   "source": [
    "# Create a list of categorical variables \n",
    "categorical_variables = list(applicant_data_df.dtypes[applicant_data_df.dtypes == \"object\"].index)\n",
    "\n",
    "# Display the categorical variables list\n",
    "categorical_variables"
   ]
  },
  {
   "cell_type": "code",
   "execution_count": 6,
   "metadata": {},
   "outputs": [],
   "source": [
    "# Create a OneHotEncoder instance\n",
    "enc = OneHotEncoder(sparse=False)"
   ]
  },
  {
   "cell_type": "code",
   "execution_count": 7,
   "metadata": {},
   "outputs": [],
   "source": [
    "# Encode the categorcal variables using OneHotEncoder\n",
    "encoded_data = enc.fit_transform(applicant_data_df[categorical_variables])"
   ]
  },
  {
   "cell_type": "code",
   "execution_count": 8,
   "metadata": {},
   "outputs": [
    {
     "data": {
      "text/html": [
       "<div>\n",
       "<style scoped>\n",
       "    .dataframe tbody tr th:only-of-type {\n",
       "        vertical-align: middle;\n",
       "    }\n",
       "\n",
       "    .dataframe tbody tr th {\n",
       "        vertical-align: top;\n",
       "    }\n",
       "\n",
       "    .dataframe thead th {\n",
       "        text-align: right;\n",
       "    }\n",
       "</style>\n",
       "<table border=\"1\" class=\"dataframe\">\n",
       "  <thead>\n",
       "    <tr style=\"text-align: right;\">\n",
       "      <th></th>\n",
       "      <th>APPLICATION_TYPE_T10</th>\n",
       "      <th>APPLICATION_TYPE_T12</th>\n",
       "      <th>APPLICATION_TYPE_T13</th>\n",
       "      <th>APPLICATION_TYPE_T14</th>\n",
       "      <th>APPLICATION_TYPE_T15</th>\n",
       "      <th>APPLICATION_TYPE_T17</th>\n",
       "      <th>APPLICATION_TYPE_T19</th>\n",
       "      <th>APPLICATION_TYPE_T2</th>\n",
       "      <th>APPLICATION_TYPE_T25</th>\n",
       "      <th>APPLICATION_TYPE_T29</th>\n",
       "      <th>...</th>\n",
       "      <th>INCOME_AMT_1-9999</th>\n",
       "      <th>INCOME_AMT_10000-24999</th>\n",
       "      <th>INCOME_AMT_100000-499999</th>\n",
       "      <th>INCOME_AMT_10M-50M</th>\n",
       "      <th>INCOME_AMT_1M-5M</th>\n",
       "      <th>INCOME_AMT_25000-99999</th>\n",
       "      <th>INCOME_AMT_50M+</th>\n",
       "      <th>INCOME_AMT_5M-10M</th>\n",
       "      <th>SPECIAL_CONSIDERATIONS_N</th>\n",
       "      <th>SPECIAL_CONSIDERATIONS_Y</th>\n",
       "    </tr>\n",
       "  </thead>\n",
       "  <tbody>\n",
       "    <tr>\n",
       "      <th>0</th>\n",
       "      <td>1.0</td>\n",
       "      <td>0.0</td>\n",
       "      <td>0.0</td>\n",
       "      <td>0.0</td>\n",
       "      <td>0.0</td>\n",
       "      <td>0.0</td>\n",
       "      <td>0.0</td>\n",
       "      <td>0.0</td>\n",
       "      <td>0.0</td>\n",
       "      <td>0.0</td>\n",
       "      <td>...</td>\n",
       "      <td>0.0</td>\n",
       "      <td>0.0</td>\n",
       "      <td>0.0</td>\n",
       "      <td>0.0</td>\n",
       "      <td>0.0</td>\n",
       "      <td>0.0</td>\n",
       "      <td>0.0</td>\n",
       "      <td>0.0</td>\n",
       "      <td>1.0</td>\n",
       "      <td>0.0</td>\n",
       "    </tr>\n",
       "    <tr>\n",
       "      <th>1</th>\n",
       "      <td>0.0</td>\n",
       "      <td>0.0</td>\n",
       "      <td>0.0</td>\n",
       "      <td>0.0</td>\n",
       "      <td>0.0</td>\n",
       "      <td>0.0</td>\n",
       "      <td>0.0</td>\n",
       "      <td>0.0</td>\n",
       "      <td>0.0</td>\n",
       "      <td>0.0</td>\n",
       "      <td>...</td>\n",
       "      <td>1.0</td>\n",
       "      <td>0.0</td>\n",
       "      <td>0.0</td>\n",
       "      <td>0.0</td>\n",
       "      <td>0.0</td>\n",
       "      <td>0.0</td>\n",
       "      <td>0.0</td>\n",
       "      <td>0.0</td>\n",
       "      <td>1.0</td>\n",
       "      <td>0.0</td>\n",
       "    </tr>\n",
       "    <tr>\n",
       "      <th>2</th>\n",
       "      <td>0.0</td>\n",
       "      <td>0.0</td>\n",
       "      <td>0.0</td>\n",
       "      <td>0.0</td>\n",
       "      <td>0.0</td>\n",
       "      <td>0.0</td>\n",
       "      <td>0.0</td>\n",
       "      <td>0.0</td>\n",
       "      <td>0.0</td>\n",
       "      <td>0.0</td>\n",
       "      <td>...</td>\n",
       "      <td>0.0</td>\n",
       "      <td>0.0</td>\n",
       "      <td>0.0</td>\n",
       "      <td>0.0</td>\n",
       "      <td>0.0</td>\n",
       "      <td>0.0</td>\n",
       "      <td>0.0</td>\n",
       "      <td>0.0</td>\n",
       "      <td>1.0</td>\n",
       "      <td>0.0</td>\n",
       "    </tr>\n",
       "    <tr>\n",
       "      <th>3</th>\n",
       "      <td>0.0</td>\n",
       "      <td>0.0</td>\n",
       "      <td>0.0</td>\n",
       "      <td>0.0</td>\n",
       "      <td>0.0</td>\n",
       "      <td>0.0</td>\n",
       "      <td>0.0</td>\n",
       "      <td>0.0</td>\n",
       "      <td>0.0</td>\n",
       "      <td>0.0</td>\n",
       "      <td>...</td>\n",
       "      <td>0.0</td>\n",
       "      <td>1.0</td>\n",
       "      <td>0.0</td>\n",
       "      <td>0.0</td>\n",
       "      <td>0.0</td>\n",
       "      <td>0.0</td>\n",
       "      <td>0.0</td>\n",
       "      <td>0.0</td>\n",
       "      <td>1.0</td>\n",
       "      <td>0.0</td>\n",
       "    </tr>\n",
       "    <tr>\n",
       "      <th>4</th>\n",
       "      <td>0.0</td>\n",
       "      <td>0.0</td>\n",
       "      <td>0.0</td>\n",
       "      <td>0.0</td>\n",
       "      <td>0.0</td>\n",
       "      <td>0.0</td>\n",
       "      <td>0.0</td>\n",
       "      <td>0.0</td>\n",
       "      <td>0.0</td>\n",
       "      <td>0.0</td>\n",
       "      <td>...</td>\n",
       "      <td>0.0</td>\n",
       "      <td>0.0</td>\n",
       "      <td>1.0</td>\n",
       "      <td>0.0</td>\n",
       "      <td>0.0</td>\n",
       "      <td>0.0</td>\n",
       "      <td>0.0</td>\n",
       "      <td>0.0</td>\n",
       "      <td>1.0</td>\n",
       "      <td>0.0</td>\n",
       "    </tr>\n",
       "  </tbody>\n",
       "</table>\n",
       "<p>5 rows × 114 columns</p>\n",
       "</div>"
      ],
      "text/plain": [
       "   APPLICATION_TYPE_T10  APPLICATION_TYPE_T12  APPLICATION_TYPE_T13  \\\n",
       "0                   1.0                   0.0                   0.0   \n",
       "1                   0.0                   0.0                   0.0   \n",
       "2                   0.0                   0.0                   0.0   \n",
       "3                   0.0                   0.0                   0.0   \n",
       "4                   0.0                   0.0                   0.0   \n",
       "\n",
       "   APPLICATION_TYPE_T14  APPLICATION_TYPE_T15  APPLICATION_TYPE_T17  \\\n",
       "0                   0.0                   0.0                   0.0   \n",
       "1                   0.0                   0.0                   0.0   \n",
       "2                   0.0                   0.0                   0.0   \n",
       "3                   0.0                   0.0                   0.0   \n",
       "4                   0.0                   0.0                   0.0   \n",
       "\n",
       "   APPLICATION_TYPE_T19  APPLICATION_TYPE_T2  APPLICATION_TYPE_T25  \\\n",
       "0                   0.0                  0.0                   0.0   \n",
       "1                   0.0                  0.0                   0.0   \n",
       "2                   0.0                  0.0                   0.0   \n",
       "3                   0.0                  0.0                   0.0   \n",
       "4                   0.0                  0.0                   0.0   \n",
       "\n",
       "   APPLICATION_TYPE_T29  ...  INCOME_AMT_1-9999  INCOME_AMT_10000-24999  \\\n",
       "0                   0.0  ...                0.0                     0.0   \n",
       "1                   0.0  ...                1.0                     0.0   \n",
       "2                   0.0  ...                0.0                     0.0   \n",
       "3                   0.0  ...                0.0                     1.0   \n",
       "4                   0.0  ...                0.0                     0.0   \n",
       "\n",
       "   INCOME_AMT_100000-499999  INCOME_AMT_10M-50M  INCOME_AMT_1M-5M  \\\n",
       "0                       0.0                 0.0               0.0   \n",
       "1                       0.0                 0.0               0.0   \n",
       "2                       0.0                 0.0               0.0   \n",
       "3                       0.0                 0.0               0.0   \n",
       "4                       1.0                 0.0               0.0   \n",
       "\n",
       "   INCOME_AMT_25000-99999  INCOME_AMT_50M+  INCOME_AMT_5M-10M  \\\n",
       "0                     0.0              0.0                0.0   \n",
       "1                     0.0              0.0                0.0   \n",
       "2                     0.0              0.0                0.0   \n",
       "3                     0.0              0.0                0.0   \n",
       "4                     0.0              0.0                0.0   \n",
       "\n",
       "   SPECIAL_CONSIDERATIONS_N  SPECIAL_CONSIDERATIONS_Y  \n",
       "0                       1.0                       0.0  \n",
       "1                       1.0                       0.0  \n",
       "2                       1.0                       0.0  \n",
       "3                       1.0                       0.0  \n",
       "4                       1.0                       0.0  \n",
       "\n",
       "[5 rows x 114 columns]"
      ]
     },
     "execution_count": 8,
     "metadata": {},
     "output_type": "execute_result"
    }
   ],
   "source": [
    "# Create a DataFrame with the encoded variables\n",
    "encoded_df = pd.DataFrame(\n",
    "    encoded_data,\n",
    "    columns = enc.get_feature_names(categorical_variables)\n",
    ")\n",
    "\n",
    "# Review the DataFrame\n",
    "encoded_df.head()"
   ]
  },
  {
   "cell_type": "markdown",
   "metadata": {},
   "source": [
    "### Step 4: Add the original DataFrame’s numerical variables to the DataFrame containing the encoded variables.\n",
    "\n",
    "> **Note** To complete this step, you will employ the Pandas `concat()` function that was introduced earlier in this course. "
   ]
  },
  {
   "cell_type": "code",
   "execution_count": 9,
   "metadata": {},
   "outputs": [
    {
     "data": {
      "text/html": [
       "<div>\n",
       "<style scoped>\n",
       "    .dataframe tbody tr th:only-of-type {\n",
       "        vertical-align: middle;\n",
       "    }\n",
       "\n",
       "    .dataframe tbody tr th {\n",
       "        vertical-align: top;\n",
       "    }\n",
       "\n",
       "    .dataframe thead th {\n",
       "        text-align: right;\n",
       "    }\n",
       "</style>\n",
       "<table border=\"1\" class=\"dataframe\">\n",
       "  <thead>\n",
       "    <tr style=\"text-align: right;\">\n",
       "      <th></th>\n",
       "      <th>STATUS</th>\n",
       "      <th>ASK_AMT</th>\n",
       "      <th>IS_SUCCESSFUL</th>\n",
       "    </tr>\n",
       "  </thead>\n",
       "  <tbody>\n",
       "    <tr>\n",
       "      <th>0</th>\n",
       "      <td>1</td>\n",
       "      <td>5000</td>\n",
       "      <td>1</td>\n",
       "    </tr>\n",
       "    <tr>\n",
       "      <th>1</th>\n",
       "      <td>1</td>\n",
       "      <td>108590</td>\n",
       "      <td>1</td>\n",
       "    </tr>\n",
       "    <tr>\n",
       "      <th>2</th>\n",
       "      <td>1</td>\n",
       "      <td>5000</td>\n",
       "      <td>0</td>\n",
       "    </tr>\n",
       "    <tr>\n",
       "      <th>3</th>\n",
       "      <td>1</td>\n",
       "      <td>6692</td>\n",
       "      <td>1</td>\n",
       "    </tr>\n",
       "    <tr>\n",
       "      <th>4</th>\n",
       "      <td>1</td>\n",
       "      <td>142590</td>\n",
       "      <td>1</td>\n",
       "    </tr>\n",
       "  </tbody>\n",
       "</table>\n",
       "</div>"
      ],
      "text/plain": [
       "   STATUS  ASK_AMT  IS_SUCCESSFUL\n",
       "0       1     5000              1\n",
       "1       1   108590              1\n",
       "2       1     5000              0\n",
       "3       1     6692              1\n",
       "4       1   142590              1"
      ]
     },
     "execution_count": 9,
     "metadata": {},
     "output_type": "execute_result"
    }
   ],
   "source": [
    "numerical_variables_df = applicant_data_df.drop(columns = categorical_variables)\n",
    "\n",
    "# Review the DataFrame\n",
    "numerical_variables_df.head()"
   ]
  },
  {
   "cell_type": "code",
   "execution_count": 10,
   "metadata": {},
   "outputs": [
    {
     "data": {
      "text/html": [
       "<div>\n",
       "<style scoped>\n",
       "    .dataframe tbody tr th:only-of-type {\n",
       "        vertical-align: middle;\n",
       "    }\n",
       "\n",
       "    .dataframe tbody tr th {\n",
       "        vertical-align: top;\n",
       "    }\n",
       "\n",
       "    .dataframe thead th {\n",
       "        text-align: right;\n",
       "    }\n",
       "</style>\n",
       "<table border=\"1\" class=\"dataframe\">\n",
       "  <thead>\n",
       "    <tr style=\"text-align: right;\">\n",
       "      <th></th>\n",
       "      <th>STATUS</th>\n",
       "      <th>ASK_AMT</th>\n",
       "      <th>IS_SUCCESSFUL</th>\n",
       "      <th>APPLICATION_TYPE_T10</th>\n",
       "      <th>APPLICATION_TYPE_T12</th>\n",
       "      <th>APPLICATION_TYPE_T13</th>\n",
       "      <th>APPLICATION_TYPE_T14</th>\n",
       "      <th>APPLICATION_TYPE_T15</th>\n",
       "      <th>APPLICATION_TYPE_T17</th>\n",
       "      <th>APPLICATION_TYPE_T19</th>\n",
       "      <th>...</th>\n",
       "      <th>INCOME_AMT_1-9999</th>\n",
       "      <th>INCOME_AMT_10000-24999</th>\n",
       "      <th>INCOME_AMT_100000-499999</th>\n",
       "      <th>INCOME_AMT_10M-50M</th>\n",
       "      <th>INCOME_AMT_1M-5M</th>\n",
       "      <th>INCOME_AMT_25000-99999</th>\n",
       "      <th>INCOME_AMT_50M+</th>\n",
       "      <th>INCOME_AMT_5M-10M</th>\n",
       "      <th>SPECIAL_CONSIDERATIONS_N</th>\n",
       "      <th>SPECIAL_CONSIDERATIONS_Y</th>\n",
       "    </tr>\n",
       "  </thead>\n",
       "  <tbody>\n",
       "    <tr>\n",
       "      <th>0</th>\n",
       "      <td>1</td>\n",
       "      <td>5000</td>\n",
       "      <td>1</td>\n",
       "      <td>1.0</td>\n",
       "      <td>0.0</td>\n",
       "      <td>0.0</td>\n",
       "      <td>0.0</td>\n",
       "      <td>0.0</td>\n",
       "      <td>0.0</td>\n",
       "      <td>0.0</td>\n",
       "      <td>...</td>\n",
       "      <td>0.0</td>\n",
       "      <td>0.0</td>\n",
       "      <td>0.0</td>\n",
       "      <td>0.0</td>\n",
       "      <td>0.0</td>\n",
       "      <td>0.0</td>\n",
       "      <td>0.0</td>\n",
       "      <td>0.0</td>\n",
       "      <td>1.0</td>\n",
       "      <td>0.0</td>\n",
       "    </tr>\n",
       "    <tr>\n",
       "      <th>1</th>\n",
       "      <td>1</td>\n",
       "      <td>108590</td>\n",
       "      <td>1</td>\n",
       "      <td>0.0</td>\n",
       "      <td>0.0</td>\n",
       "      <td>0.0</td>\n",
       "      <td>0.0</td>\n",
       "      <td>0.0</td>\n",
       "      <td>0.0</td>\n",
       "      <td>0.0</td>\n",
       "      <td>...</td>\n",
       "      <td>1.0</td>\n",
       "      <td>0.0</td>\n",
       "      <td>0.0</td>\n",
       "      <td>0.0</td>\n",
       "      <td>0.0</td>\n",
       "      <td>0.0</td>\n",
       "      <td>0.0</td>\n",
       "      <td>0.0</td>\n",
       "      <td>1.0</td>\n",
       "      <td>0.0</td>\n",
       "    </tr>\n",
       "    <tr>\n",
       "      <th>2</th>\n",
       "      <td>1</td>\n",
       "      <td>5000</td>\n",
       "      <td>0</td>\n",
       "      <td>0.0</td>\n",
       "      <td>0.0</td>\n",
       "      <td>0.0</td>\n",
       "      <td>0.0</td>\n",
       "      <td>0.0</td>\n",
       "      <td>0.0</td>\n",
       "      <td>0.0</td>\n",
       "      <td>...</td>\n",
       "      <td>0.0</td>\n",
       "      <td>0.0</td>\n",
       "      <td>0.0</td>\n",
       "      <td>0.0</td>\n",
       "      <td>0.0</td>\n",
       "      <td>0.0</td>\n",
       "      <td>0.0</td>\n",
       "      <td>0.0</td>\n",
       "      <td>1.0</td>\n",
       "      <td>0.0</td>\n",
       "    </tr>\n",
       "    <tr>\n",
       "      <th>3</th>\n",
       "      <td>1</td>\n",
       "      <td>6692</td>\n",
       "      <td>1</td>\n",
       "      <td>0.0</td>\n",
       "      <td>0.0</td>\n",
       "      <td>0.0</td>\n",
       "      <td>0.0</td>\n",
       "      <td>0.0</td>\n",
       "      <td>0.0</td>\n",
       "      <td>0.0</td>\n",
       "      <td>...</td>\n",
       "      <td>0.0</td>\n",
       "      <td>1.0</td>\n",
       "      <td>0.0</td>\n",
       "      <td>0.0</td>\n",
       "      <td>0.0</td>\n",
       "      <td>0.0</td>\n",
       "      <td>0.0</td>\n",
       "      <td>0.0</td>\n",
       "      <td>1.0</td>\n",
       "      <td>0.0</td>\n",
       "    </tr>\n",
       "    <tr>\n",
       "      <th>4</th>\n",
       "      <td>1</td>\n",
       "      <td>142590</td>\n",
       "      <td>1</td>\n",
       "      <td>0.0</td>\n",
       "      <td>0.0</td>\n",
       "      <td>0.0</td>\n",
       "      <td>0.0</td>\n",
       "      <td>0.0</td>\n",
       "      <td>0.0</td>\n",
       "      <td>0.0</td>\n",
       "      <td>...</td>\n",
       "      <td>0.0</td>\n",
       "      <td>0.0</td>\n",
       "      <td>1.0</td>\n",
       "      <td>0.0</td>\n",
       "      <td>0.0</td>\n",
       "      <td>0.0</td>\n",
       "      <td>0.0</td>\n",
       "      <td>0.0</td>\n",
       "      <td>1.0</td>\n",
       "      <td>0.0</td>\n",
       "    </tr>\n",
       "  </tbody>\n",
       "</table>\n",
       "<p>5 rows × 117 columns</p>\n",
       "</div>"
      ],
      "text/plain": [
       "   STATUS  ASK_AMT  IS_SUCCESSFUL  APPLICATION_TYPE_T10  APPLICATION_TYPE_T12  \\\n",
       "0       1     5000              1                   1.0                   0.0   \n",
       "1       1   108590              1                   0.0                   0.0   \n",
       "2       1     5000              0                   0.0                   0.0   \n",
       "3       1     6692              1                   0.0                   0.0   \n",
       "4       1   142590              1                   0.0                   0.0   \n",
       "\n",
       "   APPLICATION_TYPE_T13  APPLICATION_TYPE_T14  APPLICATION_TYPE_T15  \\\n",
       "0                   0.0                   0.0                   0.0   \n",
       "1                   0.0                   0.0                   0.0   \n",
       "2                   0.0                   0.0                   0.0   \n",
       "3                   0.0                   0.0                   0.0   \n",
       "4                   0.0                   0.0                   0.0   \n",
       "\n",
       "   APPLICATION_TYPE_T17  APPLICATION_TYPE_T19  ...  INCOME_AMT_1-9999  \\\n",
       "0                   0.0                   0.0  ...                0.0   \n",
       "1                   0.0                   0.0  ...                1.0   \n",
       "2                   0.0                   0.0  ...                0.0   \n",
       "3                   0.0                   0.0  ...                0.0   \n",
       "4                   0.0                   0.0  ...                0.0   \n",
       "\n",
       "   INCOME_AMT_10000-24999  INCOME_AMT_100000-499999  INCOME_AMT_10M-50M  \\\n",
       "0                     0.0                       0.0                 0.0   \n",
       "1                     0.0                       0.0                 0.0   \n",
       "2                     0.0                       0.0                 0.0   \n",
       "3                     1.0                       0.0                 0.0   \n",
       "4                     0.0                       1.0                 0.0   \n",
       "\n",
       "   INCOME_AMT_1M-5M  INCOME_AMT_25000-99999  INCOME_AMT_50M+  \\\n",
       "0               0.0                     0.0              0.0   \n",
       "1               0.0                     0.0              0.0   \n",
       "2               0.0                     0.0              0.0   \n",
       "3               0.0                     0.0              0.0   \n",
       "4               0.0                     0.0              0.0   \n",
       "\n",
       "   INCOME_AMT_5M-10M  SPECIAL_CONSIDERATIONS_N  SPECIAL_CONSIDERATIONS_Y  \n",
       "0                0.0                       1.0                       0.0  \n",
       "1                0.0                       1.0                       0.0  \n",
       "2                0.0                       1.0                       0.0  \n",
       "3                0.0                       1.0                       0.0  \n",
       "4                0.0                       1.0                       0.0  \n",
       "\n",
       "[5 rows x 117 columns]"
      ]
     },
     "execution_count": 10,
     "metadata": {},
     "output_type": "execute_result"
    }
   ],
   "source": [
    "# Add the numerical variables from the original DataFrame to the one-hot encoding DataFrame\n",
    "fully_encoded_df = pd.concat(\n",
    "    [\n",
    "        numerical_variables_df,\n",
    "        encoded_df\n",
    "    ],\n",
    "    axis=1\n",
    ")\n",
    "\n",
    "# Review the Dataframe\n",
    "fully_encoded_df.head()"
   ]
  },
  {
   "cell_type": "code",
   "execution_count": 11,
   "metadata": {},
   "outputs": [
    {
     "data": {
      "text/plain": [
       "APPLICATION_TYPE          object\n",
       "AFFILIATION               object\n",
       "CLASSIFICATION            object\n",
       "USE_CASE                  object\n",
       "ORGANIZATION              object\n",
       "STATUS                     int64\n",
       "INCOME_AMT                object\n",
       "SPECIAL_CONSIDERATIONS    object\n",
       "ASK_AMT                    int64\n",
       "IS_SUCCESSFUL              int64\n",
       "dtype: object"
      ]
     },
     "execution_count": 11,
     "metadata": {},
     "output_type": "execute_result"
    }
   ],
   "source": [
    "applicant_data_df.dtypes"
   ]
  },
  {
   "cell_type": "code",
   "execution_count": 12,
   "metadata": {},
   "outputs": [
    {
     "data": {
      "text/plain": [
       "STATUS                        int64\n",
       "ASK_AMT                       int64\n",
       "IS_SUCCESSFUL                 int64\n",
       "APPLICATION_TYPE_T10        float64\n",
       "APPLICATION_TYPE_T12        float64\n",
       "                             ...   \n",
       "INCOME_AMT_25000-99999      float64\n",
       "INCOME_AMT_50M+             float64\n",
       "INCOME_AMT_5M-10M           float64\n",
       "SPECIAL_CONSIDERATIONS_N    float64\n",
       "SPECIAL_CONSIDERATIONS_Y    float64\n",
       "Length: 117, dtype: object"
      ]
     },
     "execution_count": 12,
     "metadata": {},
     "output_type": "execute_result"
    }
   ],
   "source": [
    "fully_encoded_df.dtypes"
   ]
  },
  {
   "cell_type": "markdown",
   "metadata": {},
   "source": [
    "### Step 5: Using the preprocessed data, create the features (`X`) and target (`y`) datasets. The target dataset should be defined by the  DataFrame column “IS_SUCCESSFUL”. The remaining columns should define the features dataset. \n",
    "\n"
   ]
  },
  {
   "cell_type": "code",
   "execution_count": 13,
   "metadata": {},
   "outputs": [
    {
     "data": {
      "text/plain": [
       "0    1\n",
       "1    1\n",
       "2    0\n",
       "3    1\n",
       "4    1\n",
       "Name: IS_SUCCESSFUL, dtype: int64"
      ]
     },
     "execution_count": 13,
     "metadata": {},
     "output_type": "execute_result"
    }
   ],
   "source": [
    "# Define the target set y using the IS_SUCCESSFUL column\n",
    "y = fully_encoded_df[\"IS_SUCCESSFUL\"]\n",
    "\n",
    "# Display a sample of y\n",
    "y[:5]"
   ]
  },
  {
   "cell_type": "code",
   "execution_count": 14,
   "metadata": {},
   "outputs": [
    {
     "data": {
      "text/html": [
       "<div>\n",
       "<style scoped>\n",
       "    .dataframe tbody tr th:only-of-type {\n",
       "        vertical-align: middle;\n",
       "    }\n",
       "\n",
       "    .dataframe tbody tr th {\n",
       "        vertical-align: top;\n",
       "    }\n",
       "\n",
       "    .dataframe thead th {\n",
       "        text-align: right;\n",
       "    }\n",
       "</style>\n",
       "<table border=\"1\" class=\"dataframe\">\n",
       "  <thead>\n",
       "    <tr style=\"text-align: right;\">\n",
       "      <th></th>\n",
       "      <th>STATUS</th>\n",
       "      <th>ASK_AMT</th>\n",
       "      <th>APPLICATION_TYPE_T10</th>\n",
       "      <th>APPLICATION_TYPE_T12</th>\n",
       "      <th>APPLICATION_TYPE_T13</th>\n",
       "      <th>APPLICATION_TYPE_T14</th>\n",
       "      <th>APPLICATION_TYPE_T15</th>\n",
       "      <th>APPLICATION_TYPE_T17</th>\n",
       "      <th>APPLICATION_TYPE_T19</th>\n",
       "      <th>APPLICATION_TYPE_T2</th>\n",
       "      <th>...</th>\n",
       "      <th>INCOME_AMT_1-9999</th>\n",
       "      <th>INCOME_AMT_10000-24999</th>\n",
       "      <th>INCOME_AMT_100000-499999</th>\n",
       "      <th>INCOME_AMT_10M-50M</th>\n",
       "      <th>INCOME_AMT_1M-5M</th>\n",
       "      <th>INCOME_AMT_25000-99999</th>\n",
       "      <th>INCOME_AMT_50M+</th>\n",
       "      <th>INCOME_AMT_5M-10M</th>\n",
       "      <th>SPECIAL_CONSIDERATIONS_N</th>\n",
       "      <th>SPECIAL_CONSIDERATIONS_Y</th>\n",
       "    </tr>\n",
       "  </thead>\n",
       "  <tbody>\n",
       "    <tr>\n",
       "      <th>0</th>\n",
       "      <td>1</td>\n",
       "      <td>5000</td>\n",
       "      <td>1.0</td>\n",
       "      <td>0.0</td>\n",
       "      <td>0.0</td>\n",
       "      <td>0.0</td>\n",
       "      <td>0.0</td>\n",
       "      <td>0.0</td>\n",
       "      <td>0.0</td>\n",
       "      <td>0.0</td>\n",
       "      <td>...</td>\n",
       "      <td>0.0</td>\n",
       "      <td>0.0</td>\n",
       "      <td>0.0</td>\n",
       "      <td>0.0</td>\n",
       "      <td>0.0</td>\n",
       "      <td>0.0</td>\n",
       "      <td>0.0</td>\n",
       "      <td>0.0</td>\n",
       "      <td>1.0</td>\n",
       "      <td>0.0</td>\n",
       "    </tr>\n",
       "    <tr>\n",
       "      <th>1</th>\n",
       "      <td>1</td>\n",
       "      <td>108590</td>\n",
       "      <td>0.0</td>\n",
       "      <td>0.0</td>\n",
       "      <td>0.0</td>\n",
       "      <td>0.0</td>\n",
       "      <td>0.0</td>\n",
       "      <td>0.0</td>\n",
       "      <td>0.0</td>\n",
       "      <td>0.0</td>\n",
       "      <td>...</td>\n",
       "      <td>1.0</td>\n",
       "      <td>0.0</td>\n",
       "      <td>0.0</td>\n",
       "      <td>0.0</td>\n",
       "      <td>0.0</td>\n",
       "      <td>0.0</td>\n",
       "      <td>0.0</td>\n",
       "      <td>0.0</td>\n",
       "      <td>1.0</td>\n",
       "      <td>0.0</td>\n",
       "    </tr>\n",
       "    <tr>\n",
       "      <th>2</th>\n",
       "      <td>1</td>\n",
       "      <td>5000</td>\n",
       "      <td>0.0</td>\n",
       "      <td>0.0</td>\n",
       "      <td>0.0</td>\n",
       "      <td>0.0</td>\n",
       "      <td>0.0</td>\n",
       "      <td>0.0</td>\n",
       "      <td>0.0</td>\n",
       "      <td>0.0</td>\n",
       "      <td>...</td>\n",
       "      <td>0.0</td>\n",
       "      <td>0.0</td>\n",
       "      <td>0.0</td>\n",
       "      <td>0.0</td>\n",
       "      <td>0.0</td>\n",
       "      <td>0.0</td>\n",
       "      <td>0.0</td>\n",
       "      <td>0.0</td>\n",
       "      <td>1.0</td>\n",
       "      <td>0.0</td>\n",
       "    </tr>\n",
       "    <tr>\n",
       "      <th>3</th>\n",
       "      <td>1</td>\n",
       "      <td>6692</td>\n",
       "      <td>0.0</td>\n",
       "      <td>0.0</td>\n",
       "      <td>0.0</td>\n",
       "      <td>0.0</td>\n",
       "      <td>0.0</td>\n",
       "      <td>0.0</td>\n",
       "      <td>0.0</td>\n",
       "      <td>0.0</td>\n",
       "      <td>...</td>\n",
       "      <td>0.0</td>\n",
       "      <td>1.0</td>\n",
       "      <td>0.0</td>\n",
       "      <td>0.0</td>\n",
       "      <td>0.0</td>\n",
       "      <td>0.0</td>\n",
       "      <td>0.0</td>\n",
       "      <td>0.0</td>\n",
       "      <td>1.0</td>\n",
       "      <td>0.0</td>\n",
       "    </tr>\n",
       "    <tr>\n",
       "      <th>4</th>\n",
       "      <td>1</td>\n",
       "      <td>142590</td>\n",
       "      <td>0.0</td>\n",
       "      <td>0.0</td>\n",
       "      <td>0.0</td>\n",
       "      <td>0.0</td>\n",
       "      <td>0.0</td>\n",
       "      <td>0.0</td>\n",
       "      <td>0.0</td>\n",
       "      <td>0.0</td>\n",
       "      <td>...</td>\n",
       "      <td>0.0</td>\n",
       "      <td>0.0</td>\n",
       "      <td>1.0</td>\n",
       "      <td>0.0</td>\n",
       "      <td>0.0</td>\n",
       "      <td>0.0</td>\n",
       "      <td>0.0</td>\n",
       "      <td>0.0</td>\n",
       "      <td>1.0</td>\n",
       "      <td>0.0</td>\n",
       "    </tr>\n",
       "  </tbody>\n",
       "</table>\n",
       "<p>5 rows × 116 columns</p>\n",
       "</div>"
      ],
      "text/plain": [
       "   STATUS  ASK_AMT  APPLICATION_TYPE_T10  APPLICATION_TYPE_T12  \\\n",
       "0       1     5000                   1.0                   0.0   \n",
       "1       1   108590                   0.0                   0.0   \n",
       "2       1     5000                   0.0                   0.0   \n",
       "3       1     6692                   0.0                   0.0   \n",
       "4       1   142590                   0.0                   0.0   \n",
       "\n",
       "   APPLICATION_TYPE_T13  APPLICATION_TYPE_T14  APPLICATION_TYPE_T15  \\\n",
       "0                   0.0                   0.0                   0.0   \n",
       "1                   0.0                   0.0                   0.0   \n",
       "2                   0.0                   0.0                   0.0   \n",
       "3                   0.0                   0.0                   0.0   \n",
       "4                   0.0                   0.0                   0.0   \n",
       "\n",
       "   APPLICATION_TYPE_T17  APPLICATION_TYPE_T19  APPLICATION_TYPE_T2  ...  \\\n",
       "0                   0.0                   0.0                  0.0  ...   \n",
       "1                   0.0                   0.0                  0.0  ...   \n",
       "2                   0.0                   0.0                  0.0  ...   \n",
       "3                   0.0                   0.0                  0.0  ...   \n",
       "4                   0.0                   0.0                  0.0  ...   \n",
       "\n",
       "   INCOME_AMT_1-9999  INCOME_AMT_10000-24999  INCOME_AMT_100000-499999  \\\n",
       "0                0.0                     0.0                       0.0   \n",
       "1                1.0                     0.0                       0.0   \n",
       "2                0.0                     0.0                       0.0   \n",
       "3                0.0                     1.0                       0.0   \n",
       "4                0.0                     0.0                       1.0   \n",
       "\n",
       "   INCOME_AMT_10M-50M  INCOME_AMT_1M-5M  INCOME_AMT_25000-99999  \\\n",
       "0                 0.0               0.0                     0.0   \n",
       "1                 0.0               0.0                     0.0   \n",
       "2                 0.0               0.0                     0.0   \n",
       "3                 0.0               0.0                     0.0   \n",
       "4                 0.0               0.0                     0.0   \n",
       "\n",
       "   INCOME_AMT_50M+  INCOME_AMT_5M-10M  SPECIAL_CONSIDERATIONS_N  \\\n",
       "0              0.0                0.0                       1.0   \n",
       "1              0.0                0.0                       1.0   \n",
       "2              0.0                0.0                       1.0   \n",
       "3              0.0                0.0                       1.0   \n",
       "4              0.0                0.0                       1.0   \n",
       "\n",
       "   SPECIAL_CONSIDERATIONS_Y  \n",
       "0                       0.0  \n",
       "1                       0.0  \n",
       "2                       0.0  \n",
       "3                       0.0  \n",
       "4                       0.0  \n",
       "\n",
       "[5 rows x 116 columns]"
      ]
     },
     "execution_count": 14,
     "metadata": {},
     "output_type": "execute_result"
    }
   ],
   "source": [
    "# Define features set X by selecting all columns but IS_SUCCESSFUL\n",
    "X = fully_encoded_df.drop(columns=[\"IS_SUCCESSFUL\"])\n",
    "\n",
    "\n",
    "# Review the features DataFrame\n",
    "X.head()"
   ]
  },
  {
   "cell_type": "markdown",
   "metadata": {},
   "source": [
    "### Step 6: Split the features and target sets into training and testing datasets.\n"
   ]
  },
  {
   "cell_type": "code",
   "execution_count": 15,
   "metadata": {},
   "outputs": [],
   "source": [
    "# Split the preprocessed data into a training and testing dataset\n",
    "# Assign the function a random_state equal to 1\n",
    "X_train, X_test, y_train, y_test = train_test_split(X, y, random_state=1)\n"
   ]
  },
  {
   "cell_type": "markdown",
   "metadata": {},
   "source": [
    "### Step 7: Use scikit-learn's `StandardScaler` to scale the features data."
   ]
  },
  {
   "cell_type": "code",
   "execution_count": 16,
   "metadata": {},
   "outputs": [],
   "source": [
    "# Create a StandardScaler instance\n",
    "scaler = StandardScaler()\n",
    "\n",
    "# Fit the scaler to the features training dataset\n",
    "X_scaler = scaler.fit(X_train)\n",
    "\n",
    "# Fit the scaler to the features training dataset\n",
    "X_train_scaled = X_scaler.transform(X_train)\n",
    "X_test_scaled = X_scaler.transform(X_test)"
   ]
  },
  {
   "cell_type": "markdown",
   "metadata": {},
   "source": [
    "---\n",
    "\n",
    "## Compile and Evaluate a Binary Classification Model Using a Neural Network"
   ]
  },
  {
   "cell_type": "markdown",
   "metadata": {},
   "source": [
    "### Step 1: Create a deep neural network by assigning the number of input features, the number of layers, and the number of neurons on each layer using Tensorflow’s Keras.\n",
    "\n",
    "> **Hint** You can start with a two-layer deep neural network model that uses the `relu` activation function for both layers.\n"
   ]
  },
  {
   "cell_type": "code",
   "execution_count": 17,
   "metadata": {},
   "outputs": [
    {
     "data": {
      "text/plain": [
       "116"
      ]
     },
     "execution_count": 17,
     "metadata": {},
     "output_type": "execute_result"
    }
   ],
   "source": [
    "# Define the the number of inputs (features) to the model\n",
    "number_input_features = len(X_train.iloc[0])\n",
    "\n",
    "# Review the number of features\n",
    "number_input_features"
   ]
  },
  {
   "cell_type": "code",
   "execution_count": 18,
   "metadata": {},
   "outputs": [],
   "source": [
    "\n",
    "\n",
    "\n",
    "\n",
    "\n",
    "\n",
    "\n",
    "\n",
    "\n",
    "\n",
    "\n",
    "\n",
    "\n",
    "\n",
    "\n",
    "\n",
    "\n",
    "\n",
    "\n",
    "\n",
    "\n",
    "\n",
    "\n",
    "# Define the number of neurons in the output layer\n",
    "number_output_neurons = 1"
   ]
  },
  {
   "cell_type": "code",
   "execution_count": 19,
   "metadata": {},
   "outputs": [
    {
     "data": {
      "text/plain": [
       "58"
      ]
     },
     "execution_count": 19,
     "metadata": {},
     "output_type": "execute_result"
    }
   ],
   "source": [
    "# Define the number of hidden nodes for the first hidden layer\n",
    "hidden_nodes_layer1 =  (number_input_features + number_output_neurons) // 2\n",
    "\n",
    "# Review the number hidden nodes in the first layer\n",
    "hidden_nodes_layer1"
   ]
  },
  {
   "cell_type": "code",
   "execution_count": 20,
   "metadata": {},
   "outputs": [
    {
     "data": {
      "text/plain": [
       "29"
      ]
     },
     "execution_count": 20,
     "metadata": {},
     "output_type": "execute_result"
    }
   ],
   "source": [
    "# Define the number of hidden nodes for the second hidden layer\n",
    "hidden_nodes_layer2 = (hidden_nodes_layer1 + number_output_neurons) // 2\n",
    "\n",
    "# Review the number hidden nodes in the second layer\n",
    "hidden_nodes_layer2"
   ]
  },
  {
   "cell_type": "code",
   "execution_count": 21,
   "metadata": {},
   "outputs": [],
   "source": [
    "# Create the Sequential model instance\n",
    "nn = Sequential() "
   ]
  },
  {
   "cell_type": "code",
   "execution_count": 22,
   "metadata": {},
   "outputs": [],
   "source": [
    "# Add the first hidden layer\n",
    "nn.add(Dense(units=hidden_nodes_layer1, input_dim=number_input_features, activation=\"relu\"))"
   ]
  },
  {
   "cell_type": "code",
   "execution_count": 23,
   "metadata": {},
   "outputs": [],
   "source": [
    "# Add the second hidden layer\n",
    "nn.add(Dense(units=hidden_nodes_layer2, activation=\"relu\"))"
   ]
  },
  {
   "cell_type": "code",
   "execution_count": 24,
   "metadata": {},
   "outputs": [],
   "source": [
    "# Add the output layer to the model specifying the number of output neurons and activation function\n",
    "nn.add(Dense(units=number_output_neurons, activation=\"sigmoid\"))"
   ]
  },
  {
   "cell_type": "code",
   "execution_count": 25,
   "metadata": {},
   "outputs": [
    {
     "name": "stdout",
     "output_type": "stream",
     "text": [
      "Model: \"sequential\"\n",
      "_________________________________________________________________\n",
      "Layer (type)                 Output Shape              Param #   \n",
      "=================================================================\n",
      "dense (Dense)                (None, 58)                6786      \n",
      "_________________________________________________________________\n",
      "dense_1 (Dense)              (None, 29)                1711      \n",
      "_________________________________________________________________\n",
      "dense_2 (Dense)              (None, 1)                 30        \n",
      "=================================================================\n",
      "Total params: 8,527\n",
      "Trainable params: 8,527\n",
      "Non-trainable params: 0\n",
      "_________________________________________________________________\n"
     ]
    }
   ],
   "source": [
    "# Display the Sequential model summary\n",
    "nn.summary()"
   ]
  },
  {
   "cell_type": "markdown",
   "metadata": {},
   "source": [
    "### Step 2: Compile and fit the model using the `binary_crossentropy` loss function, the `adam` optimizer, and the `accuracy` evaluation metric.\n"
   ]
  },
  {
   "cell_type": "code",
   "execution_count": 26,
   "metadata": {},
   "outputs": [],
   "source": [
    "# Compile the Sequential model\n",
    "nn.compile(loss=\"binary_crossentropy\", optimizer=\"adam\", metrics=[\"accuracy\"])"
   ]
  },
  {
   "cell_type": "code",
   "execution_count": 27,
   "metadata": {},
   "outputs": [
    {
     "name": "stdout",
     "output_type": "stream",
     "text": [
      "Epoch 1/50\n",
      "804/804 [==============================] - 1s 841us/step - loss: 0.5960 - accuracy: 0.7097\n",
      "Epoch 2/50\n",
      "804/804 [==============================] - 1s 787us/step - loss: 0.5554 - accuracy: 0.7277\n",
      "Epoch 3/50\n",
      "804/804 [==============================] - 1s 792us/step - loss: 0.5517 - accuracy: 0.7321\n",
      "Epoch 4/50\n",
      "804/804 [==============================] - 1s 898us/step - loss: 0.5404 - accuracy: 0.7376\n",
      "Epoch 5/50\n",
      "804/804 [==============================] - 1s 802us/step - loss: 0.5471 - accuracy: 0.7328\n",
      "Epoch 6/50\n",
      "804/804 [==============================] - 1s 825us/step - loss: 0.5439 - accuracy: 0.7334\n",
      "Epoch 7/50\n",
      "804/804 [==============================] - 1s 907us/step - loss: 0.5375 - accuracy: 0.7399\n",
      "Epoch 8/50\n",
      "804/804 [==============================] - 1s 803us/step - loss: 0.5456 - accuracy: 0.7288\n",
      "Epoch 9/50\n",
      "804/804 [==============================] - 1s 838us/step - loss: 0.5421 - accuracy: 0.7332\n",
      "Epoch 10/50\n",
      "804/804 [==============================] - 1s 862us/step - loss: 0.5414 - accuracy: 0.7341\n",
      "Epoch 11/50\n",
      "804/804 [==============================] - 1s 820us/step - loss: 0.5377 - accuracy: 0.7369\n",
      "Epoch 12/50\n",
      "804/804 [==============================] - 1s 878us/step - loss: 0.5392 - accuracy: 0.7403\n",
      "Epoch 13/50\n",
      "804/804 [==============================] - 1s 857us/step - loss: 0.5372 - accuracy: 0.7389\n",
      "Epoch 14/50\n",
      "804/804 [==============================] - 1s 808us/step - loss: 0.5368 - accuracy: 0.7405\n",
      "Epoch 15/50\n",
      "804/804 [==============================] - 1s 917us/step - loss: 0.5366 - accuracy: 0.7383\n",
      "Epoch 16/50\n",
      "804/804 [==============================] - 1s 850us/step - loss: 0.5394 - accuracy: 0.7373\n",
      "Epoch 17/50\n",
      "804/804 [==============================] - 1s 786us/step - loss: 0.5349 - accuracy: 0.7384\n",
      "Epoch 18/50\n",
      "804/804 [==============================] - 1s 820us/step - loss: 0.5343 - accuracy: 0.7386\n",
      "Epoch 19/50\n",
      "804/804 [==============================] - 1s 803us/step - loss: 0.5390 - accuracy: 0.7351\n",
      "Epoch 20/50\n",
      "804/804 [==============================] - 1s 787us/step - loss: 0.5380 - accuracy: 0.7378\n",
      "Epoch 21/50\n",
      "804/804 [==============================] - 1s 817us/step - loss: 0.5368 - accuracy: 0.7347\n",
      "Epoch 22/50\n",
      "804/804 [==============================] - 1s 830us/step - loss: 0.5333 - accuracy: 0.7417\n",
      "Epoch 23/50\n",
      "804/804 [==============================] - 1s 791us/step - loss: 0.5356 - accuracy: 0.7414\n",
      "Epoch 24/50\n",
      "804/804 [==============================] - 1s 786us/step - loss: 0.5350 - accuracy: 0.7383\n",
      "Epoch 25/50\n",
      "804/804 [==============================] - 1s 841us/step - loss: 0.5380 - accuracy: 0.7374\n",
      "Epoch 26/50\n",
      "804/804 [==============================] - 1s 842us/step - loss: 0.5323 - accuracy: 0.7426\n",
      "Epoch 27/50\n",
      "804/804 [==============================] - 1s 788us/step - loss: 0.5341 - accuracy: 0.7393\n",
      "Epoch 28/50\n",
      "804/804 [==============================] - 1s 805us/step - loss: 0.5333 - accuracy: 0.7385\n",
      "Epoch 29/50\n",
      "804/804 [==============================] - 1s 793us/step - loss: 0.5367 - accuracy: 0.7406\n",
      "Epoch 30/50\n",
      "804/804 [==============================] - 1s 820us/step - loss: 0.5325 - accuracy: 0.7414\n",
      "Epoch 31/50\n",
      "804/804 [==============================] - 1s 878us/step - loss: 0.5289 - accuracy: 0.7445\n",
      "Epoch 32/50\n",
      "804/804 [==============================] - 1s 862us/step - loss: 0.5326 - accuracy: 0.7406\n",
      "Epoch 33/50\n",
      "804/804 [==============================] - 1s 840us/step - loss: 0.5362 - accuracy: 0.7408\n",
      "Epoch 34/50\n",
      "804/804 [==============================] - 1s 825us/step - loss: 0.5349 - accuracy: 0.7380\n",
      "Epoch 35/50\n",
      "804/804 [==============================] - 1s 814us/step - loss: 0.5297 - accuracy: 0.7447\n",
      "Epoch 36/50\n",
      "804/804 [==============================] - 1s 832us/step - loss: 0.5338 - accuracy: 0.7420\n",
      "Epoch 37/50\n",
      "804/804 [==============================] - 1s 886us/step - loss: 0.5284 - accuracy: 0.7438\n",
      "Epoch 38/50\n",
      "804/804 [==============================] - 1s 845us/step - loss: 0.5267 - accuracy: 0.7420\n",
      "Epoch 39/50\n",
      "804/804 [==============================] - 1s 842us/step - loss: 0.5297 - accuracy: 0.7437\n",
      "Epoch 40/50\n",
      "804/804 [==============================] - 1s 896us/step - loss: 0.5306 - accuracy: 0.7395\n",
      "Epoch 41/50\n",
      "804/804 [==============================] - 1s 871us/step - loss: 0.5298 - accuracy: 0.7433\n",
      "Epoch 42/50\n",
      "804/804 [==============================] - 1s 860us/step - loss: 0.5359 - accuracy: 0.7394\n",
      "Epoch 43/50\n",
      "804/804 [==============================] - 1s 836us/step - loss: 0.5306 - accuracy: 0.7439\n",
      "Epoch 44/50\n",
      "804/804 [==============================] - 1s 825us/step - loss: 0.5278 - accuracy: 0.7410\n",
      "Epoch 45/50\n",
      "804/804 [==============================] - 1s 912us/step - loss: 0.5283 - accuracy: 0.7451\n",
      "Epoch 46/50\n",
      "804/804 [==============================] - 1s 817us/step - loss: 0.5337 - accuracy: 0.7376\n",
      "Epoch 47/50\n",
      "804/804 [==============================] - 1s 797us/step - loss: 0.5300 - accuracy: 0.7421\n",
      "Epoch 48/50\n",
      "804/804 [==============================] - 1s 877us/step - loss: 0.5321 - accuracy: 0.7404\n",
      "Epoch 49/50\n",
      "804/804 [==============================] - 1s 801us/step - loss: 0.5308 - accuracy: 0.7434\n",
      "Epoch 50/50\n",
      "804/804 [==============================] - 1s 858us/step - loss: 0.5267 - accuracy: 0.7443\n"
     ]
    }
   ],
   "source": [
    "# Fit the model using 50 epochs and the training data\n",
    "fit_model = nn.fit(X_train_scaled, y_train, epochs=50)"
   ]
  },
  {
   "cell_type": "markdown",
   "metadata": {},
   "source": [
    "### Step 3: Evaluate the model using the test data to determine the model’s loss and accuracy.\n"
   ]
  },
  {
   "cell_type": "code",
   "execution_count": 28,
   "metadata": {},
   "outputs": [
    {
     "name": "stdout",
     "output_type": "stream",
     "text": [
      "268/268 - 0s - loss: 0.5537 - accuracy: 0.7304\n",
      "Loss: 0.5536527037620544, Accuracy: 0.7303789854049683\n"
     ]
    }
   ],
   "source": [
    "# Evaluate the model loss and accuracy metrics using the evaluate method and the test data\n",
    "model_loss, model_accuracy = nn.evaluate(X_test_scaled,y_test,verbose=2)\n",
    "\n",
    "# Display the model loss and accuracy results\n",
    "print(f\"Loss: {model_loss}, Accuracy: {model_accuracy}\")"
   ]
  },
  {
   "cell_type": "markdown",
   "metadata": {},
   "source": [
    "### Step 4: Save and export your model to an HDF5 file, and name the file `AlphabetSoup.h5`. \n"
   ]
  },
  {
   "cell_type": "code",
   "execution_count": 29,
   "metadata": {},
   "outputs": [],
   "source": [
    "# Set the model's file path\n",
    "file_path = Path(\"./Resources/AlphabetSoup.h5\")\n",
    "\n",
    "# Export your model to a HDF5 file\n",
    "nn.save(file_path)"
   ]
  },
  {
   "cell_type": "markdown",
   "metadata": {},
   "source": [
    "---\n",
    "\n",
    "## Optimize the neural network model\n"
   ]
  },
  {
   "cell_type": "markdown",
   "metadata": {},
   "source": [
    "### Step 1: Define at least three new deep neural network models (resulting in the original plus 3 optimization attempts). With each, try to improve on your first model’s predictive accuracy.\n",
    "\n",
    "> **Rewind** Recall that perfect accuracy has a value of 1, so accuracy improves as its value moves closer to 1. To optimize your model for a predictive accuracy as close to 1 as possible, you can use any or all of the following techniques:\n",
    ">\n",
    "> * Adjust the input data by dropping different features columns to ensure that no variables or outliers confuse the model.\n",
    ">\n",
    "> * Add more neurons (nodes) to a hidden layer.\n",
    ">\n",
    "> * Add more hidden layers.\n",
    ">\n",
    "> * Use different activation functions for the hidden layers.\n",
    ">\n",
    "> * Add to or reduce the number of epochs in the training regimen.\n"
   ]
  },
  {
   "cell_type": "markdown",
   "metadata": {},
   "source": [
    "### Alternative Model 1"
   ]
  },
  {
   "cell_type": "code",
   "execution_count": 30,
   "metadata": {},
   "outputs": [
    {
     "data": {
      "text/plain": [
       "116"
      ]
     },
     "execution_count": 30,
     "metadata": {},
     "output_type": "execute_result"
    }
   ],
   "source": [
    "# Define the the number of inputs (features) to the model\n",
    "number_input_features = len(X_train.iloc[0])\n",
    "\n",
    "# Review the number of features\n",
    "number_input_features"
   ]
  },
  {
   "cell_type": "code",
   "execution_count": 31,
   "metadata": {},
   "outputs": [],
   "source": [
    "# Define the number of neurons in the output layer\n",
    "number_output_neurons_A1 = 1"
   ]
  },
  {
   "cell_type": "code",
   "execution_count": 32,
   "metadata": {},
   "outputs": [
    {
     "data": {
      "text/plain": [
       "58"
      ]
     },
     "execution_count": 32,
     "metadata": {},
     "output_type": "execute_result"
    }
   ],
   "source": [
    "# Define the number of hidden nodes for the first hidden layer\n",
    "hidden_nodes_layer1_A1 =  (number_input_features + number_output_neurons_A1) // 2\n",
    "\n",
    "# Review the number hidden nodes in the first layer\n",
    "hidden_nodes_layer1_A1"
   ]
  },
  {
   "cell_type": "code",
   "execution_count": 33,
   "metadata": {},
   "outputs": [
    {
     "data": {
      "text/plain": [
       "29"
      ]
     },
     "execution_count": 33,
     "metadata": {},
     "output_type": "execute_result"
    }
   ],
   "source": [
    "# Define the number of hidden nodes for the first hidden layer\n",
    "hidden_nodes_layer2_A1 =  (hidden_nodes_layer1_A1 + number_output_neurons_A1) // 2\n",
    "\n",
    "# Review the number hidden nodes in the first layer\n",
    "hidden_nodes_layer2_A1"
   ]
  },
  {
   "cell_type": "code",
   "execution_count": 34,
   "metadata": {},
   "outputs": [],
   "source": [
    "# Create the Sequential model instance\n",
    "nn_A1 = Sequential()"
   ]
  },
  {
   "cell_type": "code",
   "execution_count": 35,
   "metadata": {},
   "outputs": [
    {
     "name": "stdout",
     "output_type": "stream",
     "text": [
      "Model: \"sequential_1\"\n",
      "_________________________________________________________________\n",
      "Layer (type)                 Output Shape              Param #   \n",
      "=================================================================\n",
      "dense_3 (Dense)              (None, 58)                6786      \n",
      "_________________________________________________________________\n",
      "dense_4 (Dense)              (None, 29)                1711      \n",
      "_________________________________________________________________\n",
      "dense_5 (Dense)              (None, 1)                 30        \n",
      "=================================================================\n",
      "Total params: 8,527\n",
      "Trainable params: 8,527\n",
      "Non-trainable params: 0\n",
      "_________________________________________________________________\n"
     ]
    }
   ],
   "source": [
    "# First hidden layer\n",
    "nn_A1.add(Dense(units=hidden_nodes_layer1_A1, input_dim=number_input_features, activation=\"relu\"))\n",
    "\n",
    "# Second hidden layer\n",
    "nn_A1.add(Dense(units=hidden_nodes_layer2_A1, activation=\"relu\"))\n",
    "\n",
    "# Output layer\n",
    "nn_A1.add(Dense(units=number_output_neurons_A1, activation=\"sigmoid\"))\n",
    "\n",
    "# Check the structure of the model\n",
    "nn_A1.summary()"
   ]
  },
  {
   "cell_type": "code",
   "execution_count": 36,
   "metadata": {},
   "outputs": [],
   "source": [
    "# Compile the Sequential model\n",
    "nn_A1.compile(loss=\"binary_crossentropy\", optimizer=\"adam\", metrics=[\"accuracy\"])"
   ]
  },
  {
   "cell_type": "code",
   "execution_count": 61,
   "metadata": {},
   "outputs": [
    {
     "name": "stdout",
     "output_type": "stream",
     "text": [
      "Epoch 1/100\n",
      "804/804 [==============================] - 1s 848us/step - loss: 0.5323 - accuracy: 0.7417\n",
      "Epoch 2/100\n",
      "804/804 [==============================] - 1s 792us/step - loss: 0.5320 - accuracy: 0.7404\n",
      "Epoch 3/100\n",
      "804/804 [==============================] - 1s 777us/step - loss: 0.5318 - accuracy: 0.7410\n",
      "Epoch 4/100\n",
      "804/804 [==============================] - 1s 817us/step - loss: 0.5320 - accuracy: 0.7413\n",
      "Epoch 5/100\n",
      "804/804 [==============================] - 1s 791us/step - loss: 0.5316 - accuracy: 0.7407\n",
      "Epoch 6/100\n",
      "804/804 [==============================] - 1s 777us/step - loss: 0.5314 - accuracy: 0.7408\n",
      "Epoch 7/100\n",
      "804/804 [==============================] - 1s 852us/step - loss: 0.5312 - accuracy: 0.7413\n",
      "Epoch 8/100\n",
      "804/804 [==============================] - 1s 802us/step - loss: 0.5313 - accuracy: 0.7410\n",
      "Epoch 9/100\n",
      "804/804 [==============================] - 1s 794us/step - loss: 0.5315 - accuracy: 0.7410\n",
      "Epoch 10/100\n",
      "804/804 [==============================] - 1s 787us/step - loss: 0.5312 - accuracy: 0.7412\n",
      "Epoch 11/100\n",
      "804/804 [==============================] - 1s 808us/step - loss: 0.5311 - accuracy: 0.7416\n",
      "Epoch 12/100\n",
      "804/804 [==============================] - 1s 780us/step - loss: 0.5304 - accuracy: 0.7411\n",
      "Epoch 13/100\n",
      "804/804 [==============================] - 1s 779us/step - loss: 0.5309 - accuracy: 0.7417\n",
      "Epoch 14/100\n",
      "804/804 [==============================] - 1s 832us/step - loss: 0.5306 - accuracy: 0.7425\n",
      "Epoch 15/100\n",
      "804/804 [==============================] - 1s 779us/step - loss: 0.5308 - accuracy: 0.7415\n",
      "Epoch 16/100\n",
      "804/804 [==============================] - 1s 782us/step - loss: 0.5302 - accuracy: 0.7412\n",
      "Epoch 17/100\n",
      "804/804 [==============================] - 1s 825us/step - loss: 0.5303 - accuracy: 0.7417\n",
      "Epoch 18/100\n",
      "804/804 [==============================] - 1s 884us/step - loss: 0.5303 - accuracy: 0.7413\n",
      "Epoch 19/100\n",
      "804/804 [==============================] - 1s 786us/step - loss: 0.5302 - accuracy: 0.7425\n",
      "Epoch 20/100\n",
      "804/804 [==============================] - 1s 830us/step - loss: 0.5305 - accuracy: 0.7413\n",
      "Epoch 21/100\n",
      "804/804 [==============================] - 1s 842us/step - loss: 0.5298 - accuracy: 0.7429\n",
      "Epoch 22/100\n",
      "804/804 [==============================] - 1s 820us/step - loss: 0.5297 - accuracy: 0.7429\n",
      "Epoch 23/100\n",
      "804/804 [==============================] - 1s 863us/step - loss: 0.5298 - accuracy: 0.7422\n",
      "Epoch 24/100\n",
      "804/804 [==============================] - 1s 816us/step - loss: 0.5294 - accuracy: 0.7418\n",
      "Epoch 25/100\n",
      "804/804 [==============================] - 1s 841us/step - loss: 0.5293 - accuracy: 0.7418\n",
      "Epoch 26/100\n",
      "804/804 [==============================] - 1s 894us/step - loss: 0.5295 - accuracy: 0.7423\n",
      "Epoch 27/100\n",
      "804/804 [==============================] - 1s 826us/step - loss: 0.5295 - accuracy: 0.7423\n",
      "Epoch 28/100\n",
      "804/804 [==============================] - 1s 780us/step - loss: 0.5292 - accuracy: 0.7422\n",
      "Epoch 29/100\n",
      "804/804 [==============================] - 1s 959us/step - loss: 0.5292 - accuracy: 0.7428\n",
      "Epoch 30/100\n",
      "804/804 [==============================] - 1s 868us/step - loss: 0.5288 - accuracy: 0.7425\n",
      "Epoch 31/100\n",
      "804/804 [==============================] - 1s 968us/step - loss: 0.5293 - accuracy: 0.7437\n",
      "Epoch 32/100\n",
      "804/804 [==============================] - 1s 978us/step - loss: 0.5290 - accuracy: 0.7422\n",
      "Epoch 33/100\n",
      "804/804 [==============================] - 1s 904us/step - loss: 0.5289 - accuracy: 0.7424\n",
      "Epoch 34/100\n",
      "804/804 [==============================] - 1s 1ms/step - loss: 0.5288 - accuracy: 0.7420\n",
      "Epoch 35/100\n",
      "804/804 [==============================] - 1s 988us/step - loss: 0.5288 - accuracy: 0.7425\n",
      "Epoch 36/100\n",
      "804/804 [==============================] - 1s 847us/step - loss: 0.5289 - accuracy: 0.7429\n",
      "Epoch 37/100\n",
      "804/804 [==============================] - 1s 856us/step - loss: 0.5282 - accuracy: 0.7427\n",
      "Epoch 38/100\n",
      "804/804 [==============================] - 1s 790us/step - loss: 0.5286 - accuracy: 0.7424\n",
      "Epoch 39/100\n",
      "804/804 [==============================] - 1s 775us/step - loss: 0.5286 - accuracy: 0.7427\n",
      "Epoch 40/100\n",
      "804/804 [==============================] - 1s 808us/step - loss: 0.5285 - accuracy: 0.7430\n",
      "Epoch 41/100\n",
      "804/804 [==============================] - 1s 795us/step - loss: 0.5284 - accuracy: 0.7427\n",
      "Epoch 42/100\n",
      "804/804 [==============================] - 1s 797us/step - loss: 0.5286 - accuracy: 0.7427\n",
      "Epoch 43/100\n",
      "804/804 [==============================] - 1s 822us/step - loss: 0.5285 - accuracy: 0.7416\n",
      "Epoch 44/100\n",
      "804/804 [==============================] - 1s 775us/step - loss: 0.5283 - accuracy: 0.7425\n",
      "Epoch 45/100\n",
      "804/804 [==============================] - 1s 775us/step - loss: 0.5282 - accuracy: 0.7428\n",
      "Epoch 46/100\n",
      "804/804 [==============================] - 1s 864us/step - loss: 0.5281 - accuracy: 0.7432\n",
      "Epoch 47/100\n",
      "804/804 [==============================] - 1s 772us/step - loss: 0.5281 - accuracy: 0.7428\n",
      "Epoch 48/100\n",
      "804/804 [==============================] - 1s 776us/step - loss: 0.5282 - accuracy: 0.7427\n",
      "Epoch 49/100\n",
      "804/804 [==============================] - 1s 815us/step - loss: 0.5281 - accuracy: 0.7439\n",
      "Epoch 50/100\n",
      "804/804 [==============================] - 1s 775us/step - loss: 0.5279 - accuracy: 0.7431\n",
      "Epoch 51/100\n",
      "804/804 [==============================] - 1s 765us/step - loss: 0.5281 - accuracy: 0.7425\n",
      "Epoch 52/100\n",
      "804/804 [==============================] - 1s 820us/step - loss: 0.5284 - accuracy: 0.7433\n",
      "Epoch 53/100\n",
      "804/804 [==============================] - 1s 764us/step - loss: 0.5282 - accuracy: 0.7431\n",
      "Epoch 54/100\n",
      "804/804 [==============================] - 1s 765us/step - loss: 0.5277 - accuracy: 0.7430\n",
      "Epoch 55/100\n",
      "804/804 [==============================] - 1s 815us/step - loss: 0.5282 - accuracy: 0.7422\n",
      "Epoch 56/100\n",
      "804/804 [==============================] - 1s 779us/step - loss: 0.5287 - accuracy: 0.7427\n",
      "Epoch 57/100\n",
      "804/804 [==============================] - 1s 770us/step - loss: 0.5278 - accuracy: 0.7428\n",
      "Epoch 58/100\n",
      "804/804 [==============================] - 1s 785us/step - loss: 0.5277 - accuracy: 0.7431\n",
      "Epoch 59/100\n",
      "804/804 [==============================] - 1s 792us/step - loss: 0.5277 - accuracy: 0.7426\n",
      "Epoch 60/100\n",
      "804/804 [==============================] - 1s 772us/step - loss: 0.5278 - accuracy: 0.7432\n",
      "Epoch 61/100\n",
      "804/804 [==============================] - 1s 771us/step - loss: 0.5275 - accuracy: 0.7434\n",
      "Epoch 62/100\n",
      "804/804 [==============================] - 1s 813us/step - loss: 0.5276 - accuracy: 0.7427\n",
      "Epoch 63/100\n",
      "804/804 [==============================] - 1s 777us/step - loss: 0.5274 - accuracy: 0.7435\n",
      "Epoch 64/100\n",
      "804/804 [==============================] - 1s 780us/step - loss: 0.5272 - accuracy: 0.7428\n",
      "Epoch 65/100\n",
      "804/804 [==============================] - 1s 817us/step - loss: 0.5276 - accuracy: 0.7428\n",
      "Epoch 66/100\n",
      "804/804 [==============================] - 1s 774us/step - loss: 0.5281 - accuracy: 0.7430\n",
      "Epoch 67/100\n",
      "804/804 [==============================] - 1s 772us/step - loss: 0.5278 - accuracy: 0.7436\n",
      "Epoch 68/100\n",
      "804/804 [==============================] - 1s 808us/step - loss: 0.5273 - accuracy: 0.7437\n",
      "Epoch 69/100\n",
      "804/804 [==============================] - 1s 764us/step - loss: 0.5273 - accuracy: 0.7435\n",
      "Epoch 70/100\n",
      "804/804 [==============================] - 1s 764us/step - loss: 0.5276 - accuracy: 0.7431\n",
      "Epoch 71/100\n",
      "804/804 [==============================] - 1s 820us/step - loss: 0.5274 - accuracy: 0.7424\n",
      "Epoch 72/100\n",
      "804/804 [==============================] - 1s 771us/step - loss: 0.5270 - accuracy: 0.7437\n",
      "Epoch 73/100\n",
      "804/804 [==============================] - 1s 767us/step - loss: 0.5272 - accuracy: 0.7433\n",
      "Epoch 74/100\n",
      "804/804 [==============================] - 1s 782us/step - loss: 0.5276 - accuracy: 0.7432\n",
      "Epoch 75/100\n",
      "804/804 [==============================] - 1s 787us/step - loss: 0.5270 - accuracy: 0.7427\n",
      "Epoch 76/100\n",
      "804/804 [==============================] - 1s 840us/step - loss: 0.5269 - accuracy: 0.7439\n",
      "Epoch 77/100\n",
      "804/804 [==============================] - 1s 782us/step - loss: 0.5266 - accuracy: 0.7439\n",
      "Epoch 78/100\n",
      "804/804 [==============================] - 1s 775us/step - loss: 0.5276 - accuracy: 0.74350s - loss: 0.5\n",
      "Epoch 79/100\n",
      "804/804 [==============================] - 1s 770us/step - loss: 0.5267 - accuracy: 0.7432\n",
      "Epoch 80/100\n",
      "804/804 [==============================] - 1s 786us/step - loss: 0.5270 - accuracy: 0.7435\n",
      "Epoch 81/100\n",
      "804/804 [==============================] - 1s 793us/step - loss: 0.5275 - accuracy: 0.7431\n",
      "Epoch 82/100\n",
      "804/804 [==============================] - 1s 770us/step - loss: 0.5270 - accuracy: 0.7430\n",
      "Epoch 83/100\n",
      "804/804 [==============================] - 1s 762us/step - loss: 0.5266 - accuracy: 0.7435\n",
      "Epoch 84/100\n",
      "804/804 [==============================] - 1s 812us/step - loss: 0.5267 - accuracy: 0.7432\n",
      "Epoch 85/100\n",
      "804/804 [==============================] - 1s 764us/step - loss: 0.5265 - accuracy: 0.7437\n",
      "Epoch 86/100\n",
      "804/804 [==============================] - 1s 761us/step - loss: 0.5265 - accuracy: 0.7432\n",
      "Epoch 87/100\n",
      "804/804 [==============================] - 1s 807us/step - loss: 0.5264 - accuracy: 0.7432\n",
      "Epoch 88/100\n",
      "804/804 [==============================] - 1s 760us/step - loss: 0.5269 - accuracy: 0.7435\n",
      "Epoch 89/100\n",
      "804/804 [==============================] - 1s 818us/step - loss: 0.5266 - accuracy: 0.7431\n",
      "Epoch 90/100\n",
      "804/804 [==============================] - 1s 853us/step - loss: 0.5269 - accuracy: 0.7434\n",
      "Epoch 91/100\n",
      "804/804 [==============================] - 1s 786us/step - loss: 0.5266 - accuracy: 0.7437\n",
      "Epoch 92/100\n",
      "804/804 [==============================] - 1s 830us/step - loss: 0.5267 - accuracy: 0.7431\n",
      "Epoch 93/100\n",
      "804/804 [==============================] - 1s 809us/step - loss: 0.5260 - accuracy: 0.7435\n",
      "Epoch 94/100\n",
      "804/804 [==============================] - 1s 760us/step - loss: 0.5269 - accuracy: 0.7439\n",
      "Epoch 95/100\n",
      "804/804 [==============================] - 1s 762us/step - loss: 0.5262 - accuracy: 0.7429\n",
      "Epoch 96/100\n",
      "804/804 [==============================] - 1s 796us/step - loss: 0.5261 - accuracy: 0.7429\n",
      "Epoch 97/100\n",
      "804/804 [==============================] - 1s 775us/step - loss: 0.5265 - accuracy: 0.7431\n",
      "Epoch 98/100\n",
      "804/804 [==============================] - 1s 762us/step - loss: 0.5259 - accuracy: 0.7436\n",
      "Epoch 99/100\n",
      "804/804 [==============================] - 1s 780us/step - loss: 0.5264 - accuracy: 0.7439\n",
      "Epoch 100/100\n",
      "804/804 [==============================] - 1s 781us/step - loss: 0.5259 - accuracy: 0.7446\n"
     ]
    }
   ],
   "source": [
    "# Fit the model using 50 epochs and the training data\n",
    "fit_model_A1 = nn_A1.fit(X_train_scaled, y_train, epochs=100)"
   ]
  },
  {
   "cell_type": "markdown",
   "metadata": {},
   "source": [
    "#### Alternative Model 2"
   ]
  },
  {
   "cell_type": "code",
   "execution_count": 38,
   "metadata": {},
   "outputs": [
    {
     "data": {
      "text/plain": [
       "116"
      ]
     },
     "execution_count": 38,
     "metadata": {},
     "output_type": "execute_result"
    }
   ],
   "source": [
    "# Define the the number of inputs (features) to the model\n",
    "number_input_features = len(X_train.iloc[0])\n",
    "\n",
    "# Review the number of features\n",
    "number_input_features"
   ]
  },
  {
   "cell_type": "code",
   "execution_count": 39,
   "metadata": {},
   "outputs": [],
   "source": [
    "# Define the number of neurons in the output layer\n",
    "number_output_neurons_A2 = 1"
   ]
  },
  {
   "cell_type": "code",
   "execution_count": 40,
   "metadata": {},
   "outputs": [
    {
     "data": {
      "text/plain": [
       "58"
      ]
     },
     "execution_count": 40,
     "metadata": {},
     "output_type": "execute_result"
    }
   ],
   "source": [
    "# Define the number of hidden nodes for the first hidden layer\n",
    "hidden_nodes_layer1_A2 = (number_input_features + number_output_neurons_A2) // 2\n",
    "\n",
    "# Review the number of hidden nodes in the first layer\n",
    "hidden_nodes_layer1_A2"
   ]
  },
  {
   "cell_type": "code",
   "execution_count": 41,
   "metadata": {},
   "outputs": [
    {
     "data": {
      "text/plain": [
       "29"
      ]
     },
     "execution_count": 41,
     "metadata": {},
     "output_type": "execute_result"
    }
   ],
   "source": [
    "# Define the number of hidden nodes for the second hidden layer\n",
    "hidden_nodes_layer2_A2 = (hidden_nodes_layer1_A2 + number_output_neurons_A2) // 2\n",
    "\n",
    "# Review the number of hidden nodes in the first layer\n",
    "hidden_nodes_layer2_A2"
   ]
  },
  {
   "cell_type": "code",
   "execution_count": 42,
   "metadata": {},
   "outputs": [],
   "source": [
    "# Create the Sequential model instance\n",
    "nn_A2 = Sequential()"
   ]
  },
  {
   "cell_type": "code",
   "execution_count": 43,
   "metadata": {},
   "outputs": [
    {
     "name": "stdout",
     "output_type": "stream",
     "text": [
      "Model: \"sequential_2\"\n",
      "_________________________________________________________________\n",
      "Layer (type)                 Output Shape              Param #   \n",
      "=================================================================\n",
      "dense_6 (Dense)              (None, 58)                6786      \n",
      "_________________________________________________________________\n",
      "dense_7 (Dense)              (None, 29)                1711      \n",
      "_________________________________________________________________\n",
      "dense_8 (Dense)              (None, 1)                 30        \n",
      "=================================================================\n",
      "Total params: 8,527\n",
      "Trainable params: 8,527\n",
      "Non-trainable params: 0\n",
      "_________________________________________________________________\n"
     ]
    }
   ],
   "source": [
    "# First hidden layer\n",
    "nn_A2.add(Dense(units=hidden_nodes_layer1_A2, input_dim=number_input_features, activation=\"relu\"))\n",
    "\n",
    "# Second hidden layer\n",
    "nn_A2.add(Dense(units=hidden_nodes_layer2_A2, activation=\"relu\"))\n",
    "\n",
    "# Output layer\n",
    "nn_A2.add(Dense(units=number_output_neurons_A2, activation=\"sigmoid\"))\n",
    "\n",
    "# Check the structure of the model\n",
    "nn_A2.summary()"
   ]
  },
  {
   "cell_type": "code",
   "execution_count": 44,
   "metadata": {},
   "outputs": [],
   "source": [
    "# Compile the model\n",
    "nn_A2.compile(loss=\"binary_crossentropy\", optimizer=\"adam\", metrics=[\"accuracy\"])"
   ]
  },
  {
   "cell_type": "code",
   "execution_count": 45,
   "metadata": {},
   "outputs": [
    {
     "name": "stdout",
     "output_type": "stream",
     "text": [
      "Epoch 1/50\n",
      "804/804 [==============================] - 1s 832us/step - loss: 0.6090 - accuracy: 0.6831\n",
      "Epoch 2/50\n",
      "804/804 [==============================] - 1s 793us/step - loss: 0.5507 - accuracy: 0.7347\n",
      "Epoch 3/50\n",
      "804/804 [==============================] - 1s 771us/step - loss: 0.5496 - accuracy: 0.7301\n",
      "Epoch 4/50\n",
      "804/804 [==============================] - 1s 831us/step - loss: 0.5492 - accuracy: 0.7305\n",
      "Epoch 5/50\n",
      "804/804 [==============================] - 1s 756us/step - loss: 0.5494 - accuracy: 0.7317\n",
      "Epoch 6/50\n",
      "804/804 [==============================] - 1s 777us/step - loss: 0.5460 - accuracy: 0.7304\n",
      "Epoch 7/50\n",
      "804/804 [==============================] - 1s 813us/step - loss: 0.5474 - accuracy: 0.7321\n",
      "Epoch 8/50\n",
      "804/804 [==============================] - 1s 787us/step - loss: 0.5423 - accuracy: 0.7356\n",
      "Epoch 9/50\n",
      "804/804 [==============================] - 1s 810us/step - loss: 0.5414 - accuracy: 0.7352\n",
      "Epoch 10/50\n",
      "804/804 [==============================] - 1s 818us/step - loss: 0.5379 - accuracy: 0.7375\n",
      "Epoch 11/50\n",
      "804/804 [==============================] - 1s 800us/step - loss: 0.5458 - accuracy: 0.7318\n",
      "Epoch 12/50\n",
      "804/804 [==============================] - 1s 788us/step - loss: 0.5368 - accuracy: 0.7378\n",
      "Epoch 13/50\n",
      "804/804 [==============================] - 1s 802us/step - loss: 0.5343 - accuracy: 0.7384\n",
      "Epoch 14/50\n",
      "804/804 [==============================] - 1s 803us/step - loss: 0.5355 - accuracy: 0.7415\n",
      "Epoch 15/50\n",
      "804/804 [==============================] - 1s 790us/step - loss: 0.5431 - accuracy: 0.7327\n",
      "Epoch 16/50\n",
      "804/804 [==============================] - 1s 795us/step - loss: 0.5387 - accuracy: 0.7350\n",
      "Epoch 17/50\n",
      "804/804 [==============================] - 1s 918us/step - loss: 0.5336 - accuracy: 0.74310s - loss: 0.5327 - accuracy: 0.\n",
      "Epoch 18/50\n",
      "804/804 [==============================] - 1s 790us/step - loss: 0.5348 - accuracy: 0.7406\n",
      "Epoch 19/50\n",
      "804/804 [==============================] - 1s 815us/step - loss: 0.5350 - accuracy: 0.7398\n",
      "Epoch 20/50\n",
      "804/804 [==============================] - 1s 793us/step - loss: 0.5291 - accuracy: 0.7430\n",
      "Epoch 21/50\n",
      "804/804 [==============================] - 1s 790us/step - loss: 0.5352 - accuracy: 0.7406\n",
      "Epoch 22/50\n",
      "804/804 [==============================] - 1s 785us/step - loss: 0.5381 - accuracy: 0.7379\n",
      "Epoch 23/50\n",
      "804/804 [==============================] - 1s 802us/step - loss: 0.5337 - accuracy: 0.7393\n",
      "Epoch 24/50\n",
      "804/804 [==============================] - 1s 782us/step - loss: 0.5338 - accuracy: 0.7410\n",
      "Epoch 25/50\n",
      "804/804 [==============================] - 1s 798us/step - loss: 0.5306 - accuracy: 0.74260s - loss: 0.5\n",
      "Epoch 26/50\n",
      "804/804 [==============================] - 1s 818us/step - loss: 0.5292 - accuracy: 0.7420\n",
      "Epoch 27/50\n",
      "804/804 [==============================] - 1s 774us/step - loss: 0.5333 - accuracy: 0.7414\n",
      "Epoch 28/50\n",
      "804/804 [==============================] - 1s 782us/step - loss: 0.5332 - accuracy: 0.7384\n",
      "Epoch 29/50\n",
      "804/804 [==============================] - 1s 891us/step - loss: 0.5310 - accuracy: 0.7416\n",
      "Epoch 30/50\n",
      "804/804 [==============================] - 1s 828us/step - loss: 0.5326 - accuracy: 0.7432\n",
      "Epoch 31/50\n",
      "804/804 [==============================] - 1s 815us/step - loss: 0.5389 - accuracy: 0.7358\n",
      "Epoch 32/50\n",
      "804/804 [==============================] - 1s 861us/step - loss: 0.5341 - accuracy: 0.7436\n",
      "Epoch 33/50\n",
      "804/804 [==============================] - 1s 792us/step - loss: 0.5315 - accuracy: 0.7418\n",
      "Epoch 34/50\n",
      "804/804 [==============================] - 1s 818us/step - loss: 0.5375 - accuracy: 0.7349\n",
      "Epoch 35/50\n",
      "804/804 [==============================] - 1s 850us/step - loss: 0.5268 - accuracy: 0.7453\n",
      "Epoch 36/50\n",
      "804/804 [==============================] - 1s 816us/step - loss: 0.5335 - accuracy: 0.7420\n",
      "Epoch 37/50\n",
      "804/804 [==============================] - 1s 888us/step - loss: 0.5295 - accuracy: 0.7433\n",
      "Epoch 38/50\n",
      "804/804 [==============================] - 1s 858us/step - loss: 0.5333 - accuracy: 0.7403\n",
      "Epoch 39/50\n",
      "804/804 [==============================] - 1s 849us/step - loss: 0.5311 - accuracy: 0.7416\n",
      "Epoch 40/50\n",
      "804/804 [==============================] - 1s 837us/step - loss: 0.5388 - accuracy: 0.7376\n",
      "Epoch 41/50\n",
      "804/804 [==============================] - 1s 866us/step - loss: 0.5244 - accuracy: 0.7444\n",
      "Epoch 42/50\n",
      "804/804 [==============================] - 1s 767us/step - loss: 0.5329 - accuracy: 0.7413\n",
      "Epoch 43/50\n",
      "804/804 [==============================] - 1s 806us/step - loss: 0.5332 - accuracy: 0.7397\n",
      "Epoch 44/50\n",
      "804/804 [==============================] - 1s 812us/step - loss: 0.5322 - accuracy: 0.7417\n",
      "Epoch 45/50\n",
      "804/804 [==============================] - 1s 779us/step - loss: 0.5296 - accuracy: 0.7442\n",
      "Epoch 46/50\n",
      "804/804 [==============================] - 1s 822us/step - loss: 0.5304 - accuracy: 0.7412\n",
      "Epoch 47/50\n",
      "804/804 [==============================] - 1s 903us/step - loss: 0.5352 - accuracy: 0.7400\n",
      "Epoch 48/50\n",
      "804/804 [==============================] - 1s 835us/step - loss: 0.5277 - accuracy: 0.7463\n",
      "Epoch 49/50\n",
      "804/804 [==============================] - 1s 838us/step - loss: 0.5329 - accuracy: 0.7383\n",
      "Epoch 50/50\n",
      "804/804 [==============================] - 1s 850us/step - loss: 0.5275 - accuracy: 0.7451\n"
     ]
    }
   ],
   "source": [
    "# Fit the model\n",
    "fit_model_A2 = nn_A2.fit(X_train_scaled, y_train, epochs=50)"
   ]
  },
  {
   "cell_type": "markdown",
   "metadata": {},
   "source": [
    "#### Alternative Model 3"
   ]
  },
  {
   "cell_type": "code",
   "execution_count": 46,
   "metadata": {},
   "outputs": [
    {
     "data": {
      "text/plain": [
       "116"
      ]
     },
     "execution_count": 46,
     "metadata": {},
     "output_type": "execute_result"
    }
   ],
   "source": [
    "# Define the the number of inputs (features) to the model\n",
    "number_input_features = len(X_train.iloc[0])\n",
    "\n",
    "# Review the number of features\n",
    "number_input_features"
   ]
  },
  {
   "cell_type": "code",
   "execution_count": 47,
   "metadata": {},
   "outputs": [],
   "source": [
    "# Define the number of neurons in the output layer\n",
    "number_output_neurons_A3 = 1"
   ]
  },
  {
   "cell_type": "code",
   "execution_count": 48,
   "metadata": {},
   "outputs": [
    {
     "data": {
      "text/plain": [
       "58"
      ]
     },
     "execution_count": 48,
     "metadata": {},
     "output_type": "execute_result"
    }
   ],
   "source": [
    "# Define the number of hidden nodes for the first hidden layer\n",
    "hidden_nodes_layer1_A3 = (number_input_features + number_output_neurons_A3) // 2\n",
    "\n",
    "# Review the number of hidden nodes in the first layer\n",
    "hidden_nodes_layer1_A3"
   ]
  },
  {
   "cell_type": "code",
   "execution_count": 49,
   "metadata": {},
   "outputs": [
    {
     "data": {
      "text/plain": [
       "29"
      ]
     },
     "execution_count": 49,
     "metadata": {},
     "output_type": "execute_result"
    }
   ],
   "source": [
    "# Define the number of hidden nodes for the second hidden layer\n",
    "hidden_nodes_layer2_A3 = (hidden_nodes_layer1_A3 + number_output_neurons_A3) // 2\n",
    "\n",
    "# Review the number of hidden nodes in the first layer\n",
    "hidden_nodes_layer2_A3"
   ]
  },
  {
   "cell_type": "code",
   "execution_count": 50,
   "metadata": {},
   "outputs": [],
   "source": [
    "# Create the Sequential model instance\n",
    "nn_A3 = Sequential()"
   ]
  },
  {
   "cell_type": "code",
   "execution_count": 51,
   "metadata": {},
   "outputs": [
    {
     "name": "stdout",
     "output_type": "stream",
     "text": [
      "Model: \"sequential_3\"\n",
      "_________________________________________________________________\n",
      "Layer (type)                 Output Shape              Param #   \n",
      "=================================================================\n",
      "dense_9 (Dense)              (None, 58)                6786      \n",
      "_________________________________________________________________\n",
      "dense_10 (Dense)             (None, 29)                1711      \n",
      "_________________________________________________________________\n",
      "dense_11 (Dense)             (None, 1)                 30        \n",
      "=================================================================\n",
      "Total params: 8,527\n",
      "Trainable params: 8,527\n",
      "Non-trainable params: 0\n",
      "_________________________________________________________________\n"
     ]
    }
   ],
   "source": [
    "# First hidden layer\n",
    "nn_A3.add(Dense(units=hidden_nodes_layer1_A3, input_dim=number_input_features, activation=\"relu\"))\n",
    "\n",
    "# Second hidden layer\n",
    "nn_A3.add(Dense(units=hidden_nodes_layer2_A3, activation=\"relu\"))\n",
    "\n",
    "# Output layer\n",
    "nn_A3.add(Dense(units=number_output_neurons_A3, activation=\"sigmoid\"))\n",
    "\n",
    "# Check the structure of the model\n",
    "nn_A3.summary()"
   ]
  },
  {
   "cell_type": "code",
   "execution_count": 52,
   "metadata": {},
   "outputs": [],
   "source": [
    "# Compile the model\n",
    "nn_A3.compile(loss=\"binary_crossentropy\", optimizer=\"adam\", metrics=[\"accuracy\"])"
   ]
  },
  {
   "cell_type": "code",
   "execution_count": 53,
   "metadata": {
    "collapsed": true,
    "jupyter": {
     "outputs_hidden": true
    }
   },
   "outputs": [
    {
     "name": "stdout",
     "output_type": "stream",
     "text": [
      "Epoch 1/50\n",
      "804/804 [==============================] - 1s 791us/step - loss: 0.6006 - accuracy: 0.7036\n",
      "Epoch 2/50\n",
      "804/804 [==============================] - 1s 813us/step - loss: 0.5508 - accuracy: 0.7306\n",
      "Epoch 3/50\n",
      "804/804 [==============================] - 1s 783us/step - loss: 0.5482 - accuracy: 0.7330\n",
      "Epoch 4/50\n",
      "804/804 [==============================] - 1s 816us/step - loss: 0.5444 - accuracy: 0.7338\n",
      "Epoch 5/50\n",
      "804/804 [==============================] - 1s 904us/step - loss: 0.5479 - accuracy: 0.7308\n",
      "Epoch 6/50\n",
      "804/804 [==============================] - 1s 858us/step - loss: 0.5445 - accuracy: 0.7331\n",
      "Epoch 7/50\n",
      "804/804 [==============================] - 1s 803us/step - loss: 0.5427 - accuracy: 0.7334\n",
      "Epoch 8/50\n",
      "804/804 [==============================] - 1s 916us/step - loss: 0.5363 - accuracy: 0.7406\n",
      "Epoch 9/50\n",
      "804/804 [==============================] - 1s 846us/step - loss: 0.5396 - accuracy: 0.7381\n",
      "Epoch 10/50\n",
      "804/804 [==============================] - 1s 820us/step - loss: 0.5439 - accuracy: 0.7366\n",
      "Epoch 11/50\n",
      "804/804 [==============================] - 1s 852us/step - loss: 0.5434 - accuracy: 0.7335\n",
      "Epoch 12/50\n",
      "804/804 [==============================] - 1s 848us/step - loss: 0.5476 - accuracy: 0.7305\n",
      "Epoch 13/50\n",
      "804/804 [==============================] - 1s 798us/step - loss: 0.5352 - accuracy: 0.7401\n",
      "Epoch 14/50\n",
      "804/804 [==============================] - 1s 833us/step - loss: 0.5375 - accuracy: 0.7396\n",
      "Epoch 15/50\n",
      "804/804 [==============================] - 1s 808us/step - loss: 0.5390 - accuracy: 0.7391\n",
      "Epoch 16/50\n",
      "804/804 [==============================] - 1s 869us/step - loss: 0.5368 - accuracy: 0.7393\n",
      "Epoch 17/50\n",
      "804/804 [==============================] - 1s 864us/step - loss: 0.5378 - accuracy: 0.7404\n",
      "Epoch 18/50\n",
      "804/804 [==============================] - 1s 828us/step - loss: 0.5351 - accuracy: 0.7419\n",
      "Epoch 19/50\n",
      "804/804 [==============================] - 1s 863us/step - loss: 0.5351 - accuracy: 0.7416\n",
      "Epoch 20/50\n",
      "804/804 [==============================] - 1s 877us/step - loss: 0.5362 - accuracy: 0.7401\n",
      "Epoch 21/50\n",
      "804/804 [==============================] - 1s 825us/step - loss: 0.5360 - accuracy: 0.7381\n",
      "Epoch 22/50\n",
      "804/804 [==============================] - 1s 875us/step - loss: 0.5333 - accuracy: 0.7428\n",
      "Epoch 23/50\n",
      "804/804 [==============================] - 1s 817us/step - loss: 0.5386 - accuracy: 0.7385\n",
      "Epoch 24/50\n",
      "804/804 [==============================] - 1s 785us/step - loss: 0.5303 - accuracy: 0.7422\n",
      "Epoch 25/50\n",
      "804/804 [==============================] - 1s 806us/step - loss: 0.5319 - accuracy: 0.7423\n",
      "Epoch 26/50\n",
      "804/804 [==============================] - 1s 813us/step - loss: 0.5336 - accuracy: 0.7423\n",
      "Epoch 27/50\n",
      "804/804 [==============================] - 1s 815us/step - loss: 0.5379 - accuracy: 0.7395\n",
      "Epoch 28/50\n",
      "804/804 [==============================] - 1s 887us/step - loss: 0.5342 - accuracy: 0.7388\n",
      "Epoch 29/50\n",
      "804/804 [==============================] - 1s 881us/step - loss: 0.5338 - accuracy: 0.7410\n",
      "Epoch 30/50\n",
      "804/804 [==============================] - 1s 879us/step - loss: 0.5316 - accuracy: 0.7407\n",
      "Epoch 31/50\n",
      "804/804 [==============================] - 1s 923us/step - loss: 0.5320 - accuracy: 0.7428\n",
      "Epoch 32/50\n",
      "804/804 [==============================] - 1s 792us/step - loss: 0.5347 - accuracy: 0.7363\n",
      "Epoch 33/50\n",
      "804/804 [==============================] - 1s 795us/step - loss: 0.5298 - accuracy: 0.7429\n",
      "Epoch 34/50\n",
      "804/804 [==============================] - 1s 878us/step - loss: 0.5352 - accuracy: 0.7402\n",
      "Epoch 35/50\n",
      "804/804 [==============================] - 1s 789us/step - loss: 0.5372 - accuracy: 0.7381\n",
      "Epoch 36/50\n",
      "804/804 [==============================] - 1s 788us/step - loss: 0.5317 - accuracy: 0.7417\n",
      "Epoch 37/50\n",
      "804/804 [==============================] - 1s 818us/step - loss: 0.5340 - accuracy: 0.7397\n",
      "Epoch 38/50\n",
      "804/804 [==============================] - 1s 871us/step - loss: 0.5285 - accuracy: 0.7459\n",
      "Epoch 39/50\n",
      "804/804 [==============================] - 1s 783us/step - loss: 0.5374 - accuracy: 0.7385\n",
      "Epoch 40/50\n",
      "804/804 [==============================] - 1s 830us/step - loss: 0.5335 - accuracy: 0.7431\n",
      "Epoch 41/50\n",
      "804/804 [==============================] - 1s 803us/step - loss: 0.5328 - accuracy: 0.7396\n",
      "Epoch 42/50\n",
      "804/804 [==============================] - 1s 793us/step - loss: 0.5298 - accuracy: 0.7433\n",
      "Epoch 43/50\n",
      "804/804 [==============================] - 1s 808us/step - loss: 0.5302 - accuracy: 0.7438\n",
      "Epoch 44/50\n",
      "804/804 [==============================] - 1s 805us/step - loss: 0.5390 - accuracy: 0.7345\n",
      "Epoch 45/50\n",
      "804/804 [==============================] - 1s 777us/step - loss: 0.5325 - accuracy: 0.7405\n",
      "Epoch 46/50\n",
      "804/804 [==============================] - 1s 823us/step - loss: 0.5290 - accuracy: 0.7437\n",
      "Epoch 47/50\n",
      "804/804 [==============================] - 1s 822us/step - loss: 0.5299 - accuracy: 0.7404\n",
      "Epoch 48/50\n",
      "804/804 [==============================] - 1s 783us/step - loss: 0.5267 - accuracy: 0.7431\n",
      "Epoch 49/50\n",
      "804/804 [==============================] - 1s 785us/step - loss: 0.5359 - accuracy: 0.7379\n",
      "Epoch 50/50\n",
      "804/804 [==============================] - 1s 828us/step - loss: 0.5340 - accuracy: 0.7406\n"
     ]
    }
   ],
   "source": [
    "# Fit the model\n",
    "fit_model_A3 = nn_A3.fit(X_train_scaled, y_train, epochs=50)"
   ]
  },
  {
   "cell_type": "markdown",
   "metadata": {},
   "source": [
    "### Step 2: After finishing your models, display the accuracy scores achieved by each model, and compare the results."
   ]
  },
  {
   "cell_type": "code",
   "execution_count": 66,
   "metadata": {},
   "outputs": [
    {
     "name": "stdout",
     "output_type": "stream",
     "text": [
      "Original Model Results\n",
      "268/268 [==============================] - 0s 637us/step - loss: 0.5537 - accuracy: 0.7304\n",
      "Loss: 0.5536527037620544, Accuracy: 0.7303789854049683\n"
     ]
    },
    {
     "data": {
      "text/plain": [
       "<AxesSubplot:title={'center':'model_accuracy: Original'}>"
      ]
     },
     "execution_count": 66,
     "metadata": {},
     "output_type": "execute_result"
    },
    {
     "data": {
      "image/png": "[encoded data removed]",
      "text/plain": [
       "<Figure size 432x288 with 1 Axes>"
      ]
     },
     "metadata": {
      "needs_background": "light"
     },
     "output_type": "display_data"
    },
    {
     "data": {
      "image/png": "[encoded data removed]",
      "text/plain": [
       "<Figure size 432x288 with 1 Axes>"
      ]
     },
     "metadata": {
      "needs_background": "light"
     },
     "output_type": "display_data"
    }
   ],
   "source": [
    "print(\"Original Model Results\")\n",
    "\n",
    "# Evaluate the model loss and accuracy metrics using the evaluate method and the test data\n",
    "model_loss, model_accuracy = nn.evaluate(X_test_scaled,y_test,verbose=1)\n",
    "\n",
    "# Display the model loss and accuracy results\n",
    "print(f\"Loss: {model_loss}, Accuracy: {model_accuracy}\")\n",
    "\n",
    "model_plot = pd.DataFrame(fit_model.history, index=range(1, len(fit_model.history[\"loss\"]) + 1))\n",
    "model_plot.plot(y=\"loss\", grid=True, title=\"model_loss: Original\")\n",
    "model_plot.plot(y=\"accuracy\", grid=True, title=\"model_accuracy: Original\")"
   ]
  },
  {
   "cell_type": "code",
   "execution_count": 65,
   "metadata": {},
   "outputs": [
    {
     "name": "stdout",
     "output_type": "stream",
     "text": [
      "Alternative Model 4 Results\n",
      "268/268 [==============================] - 0s 569us/step - loss: 0.5677 - accuracy: 0.7297\n",
      "Loss: 0.5677022337913513, Accuracy: 0.72967928647995\n"
     ]
    },
    {
     "data": {
      "text/plain": [
       "<AxesSubplot:title={'center':'model_accuracy: A4'}>"
      ]
     },
     "execution_count": 65,
     "metadata": {},
     "output_type": "execute_result"
    },
    {
     "data": {
      "image/png": "[encoded data removed]",
      "text/plain": [
       "<Figure size 432x288 with 1 Axes>"
      ]
     },
     "metadata": {
      "needs_background": "light"
     },
     "output_type": "display_data"
    },
    {
     "data": {
      "image/png": "[encoded data removed]",
      "text/plain": [
       "<Figure size 432x288 with 1 Axes>"
      ]
     },
     "metadata": {
      "needs_background": "light"
     },
     "output_type": "display_data"
    }
   ],
   "source": [
    "print(\"Alternative Model 4 Results\")\n",
    "\n",
    "# Evaluate the model loss and accuracy metrics using the evaluate method and the test data\n",
    "model_loss, model_accuracy = nn_A1.evaluate(X_test_scaled,y_test,verbose=1)\n",
    "\n",
    "# Display the model loss and accuracy results\n",
    "print(f\"Loss: {model_loss}, Accuracy: {model_accuracy}\")\n",
    "\n",
    "model_plot_A4 = pd.DataFrame(fit_model_A1.history, index=range(1, len(fit_model_A1.history[\"loss\"]) + 1))\n",
    "model_plot_A4.plot(y=\"loss\", title=\"model_loss: A4\", grid=True)\n",
    "model_plot_A4.plot(y=\"accuracy\", title=\"model_accuracy: A4\", grid=True)"
   ]
  },
  {
   "cell_type": "code",
   "execution_count": 67,
   "metadata": {},
   "outputs": [
    {
     "name": "stdout",
     "output_type": "stream",
     "text": [
      "Alternative Model 5 Results\n",
      "268/268 [==============================] - 0s 579us/step - loss: 0.5533 - accuracy: 0.7307\n",
      "Loss: 0.5532741546630859, Accuracy: 0.7307288646697998\n"
     ]
    },
    {
     "data": {
      "text/plain": [
       "<AxesSubplot:title={'center':'model_accuracy: A5'}>"
      ]
     },
     "execution_count": 67,
     "metadata": {},
     "output_type": "execute_result"
    },
    {
     "data": {
      "image/png": "[encoded data removed]",
      "text/plain": [
       "<Figure size 432x288 with 1 Axes>"
      ]
     },
     "metadata": {
      "needs_background": "light"
     },
     "output_type": "display_data"
    },
    {
     "data": {
      "image/png": "[encoded data removed]",
      "text/plain": [
       "<Figure size 432x288 with 1 Axes>"
      ]
     },
     "metadata": {
      "needs_background": "light"
     },
     "output_type": "display_data"
    }
   ],
   "source": [
    "print(\"Alternative Model 5 Results\")\n",
    "\n",
    "# Evaluate the model loss and accuracy metrics using the evaluate method and the test data\n",
    "model_loss, model_accuracy = nn_A2.evaluate(X_test_scaled,y_test,verbose=1)\n",
    "\n",
    "# Display the model loss and accuracy results\n",
    "print(f\"Loss: {model_loss}, Accuracy: {model_accuracy}\")\n",
    "\n",
    "model_plot_A5 = pd.DataFrame(fit_model_A2.history, index=range(1, len(fit_model_A2.history[\"loss\"]) + 1))\n",
    "model_plot_A5.plot(y=\"loss\", grid=True, title=\"model_loss: A5\")\n",
    "model_plot_A5.plot(y=\"accuracy\", grid=True, title=\"model_accuracy: A5\")"
   ]
  },
  {
   "cell_type": "code",
   "execution_count": 68,
   "metadata": {
    "collapsed": true,
    "jupyter": {
     "outputs_hidden": true
    }
   },
   "outputs": [
    {
     "name": "stdout",
     "output_type": "stream",
     "text": [
      "Alternative Model 6 Results\n",
      "268/268 [==============================] - 0s 611us/step - loss: 0.5547 - accuracy: 0.7298\n",
      "Loss: 0.554682731628418, Accuracy: 0.7297959327697754\n"
     ]
    },
    {
     "data": {
      "text/plain": [
       "<AxesSubplot:title={'center':'model_accuracy: A6'}>"
      ]
     },
     "execution_count": 68,
     "metadata": {},
     "output_type": "execute_result"
    },
    {
     "data": {
      "image/png": "[encoded data removed]",
      "text/plain": [
       "<Figure size 432x288 with 1 Axes>"
      ]
     },
     "metadata": {
      "needs_background": "light"
     },
     "output_type": "display_data"
    },
    {
     "data": {
      "image/png": "[encoded data removed]",
      "text/plain": [
       "<Figure size 432x288 with 1 Axes>"
      ]
     },
     "metadata": {
      "needs_background": "light"
     },
     "output_type": "display_data"
    }
   ],
   "source": [
    "print(\"Alternative Model 6 Results\")\n",
    "\n",
    "# Evaluate the model loss and accuracy metrics using the evaluate method and the test data\n",
    "model_loss, model_accuracy = nn_A3.evaluate(X_test_scaled,y_test,verbose=1)\n",
    "\n",
    "# Display the model loss and accuracy results\n",
    "print(f\"Loss: {model_loss}, Accuracy: {model_accuracy}\")\n",
    "\n",
    "model_plot_A6 = pd.DataFrame(fit_model_A3.history, index=range(1, len(fit_model_A3.history[\"loss\"]) + 1))\n",
    "model_plot_A6.plot(y=\"loss\", grid=True, title=\"model_loss: A6\")\n",
    "model_plot_A6.plot(y=\"accuracy\", grid=True, title=\"model_accuracy: A6\")\n",
    "\n",
    "\n",
    "\n",
    "\n",
    "\n",
    "# plt.plot(model_1.history[\"loss\"])\n",
    "# plt.title(\"loss_function - 1 hidden layer\")\n",
    "# plt.legend([\"loss\"])\n",
    "# plt.show()\n",
    "\n",
    "# plt.plot(fit_model.history[\"loss\"])\n",
    "# plt.plot(fit_model_A3.history[\"loss\"])\n",
    "# plt.title(\"loss_function - Training\")\n",
    "# plt.legend([\"Original Model\", \"2 hidden layers\"])\n",
    "# plt.show()"
   ]
  },
  {
   "cell_type": "markdown",
   "metadata": {},
   "source": [
    "### Step 3: Save each of your alternative models as an HDF5 file.\n"
   ]
  },
  {
   "cell_type": "code",
   "execution_count": 58,
   "metadata": {},
   "outputs": [],
   "source": [
    "# Set the file path for the first alternative model\n",
    "file_path = Path(\"./Resources/sandbox_AlphabetSoup_A4.h5\")\n",
    "\n",
    "# Export your model to a HDF5 file\n",
    "nn_A4.save(file_path)"
   ]
  },
  {
   "cell_type": "code",
   "execution_count": 59,
   "metadata": {},
   "outputs": [],
   "source": [
    "# Set the file path for the second alternative model\n",
    "file_path = Path(\"./Resources/sandbox_AlphabetSoup_A5.h5\")\n",
    "\n",
    "# Export your model to a HDF5 file\n",
    "nn_A5.save(file_path)"
   ]
  },
  {
   "cell_type": "code",
   "execution_count": 60,
   "metadata": {},
   "outputs": [],
   "source": [
    "# Set the file path for the third alternative model\n",
    "file_path = Path(\"./Resources/sandbox_AlphabetSoup_A6.h5\")\n",
    "\n",
    "# Export your model to a HDF5 file\n",
    "nn_A6.save(file_path)"
   ]
  }
 ],
 "metadata": {
  "kernelspec": {
   "display_name": "Python 3",
   "language": "python",
   "name": "python3"
  },
  "language_info": {
   "codemirror_mode": {
    "name": "ipython",
    "version": 3
   },
   "file_extension": ".py",
   "mimetype": "text/x-python",
   "name": "python",
   "nbconvert_exporter": "python",
   "pygments_lexer": "ipython3",
   "version": "3.7.9"
  }
 },
 "nbformat": 4,
 "nbformat_minor": 4
}
